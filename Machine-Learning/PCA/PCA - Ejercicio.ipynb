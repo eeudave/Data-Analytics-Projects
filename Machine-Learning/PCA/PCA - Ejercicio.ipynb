{
 "cells": [
  {
   "cell_type": "code",
   "execution_count": 4,
   "id": "f6a79533-8266-4474-9ee1-72683b8b9e6e",
   "metadata": {},
   "outputs": [],
   "source": [
    "# Importar librerías necesarias\n",
    "import numpy as np\n",
    "import pandas as pd\n",
    "import matplotlib.pyplot as plt\n",
    "from sklearn.decomposition import PCA\n",
    "from sklearn.preprocessing import StandardScaler\n",
    "import seaborn as sns\n",
    "\n",
    "from sklearn.cluster import KMeans\n",
    "from sklearn.metrics import silhouette_score\n",
    "from sklearn.preprocessing import MinMaxScaler\n",
    "from sklearn import neighbors as knn"
   ]
  },
  {
   "cell_type": "markdown",
   "id": "8584a3bc-179b-4b1a-bea0-e420efdcd12f",
   "metadata": {},
   "source": [
    "1. Importar dataset de winequality-red.csv."
   ]
  },
  {
   "cell_type": "code",
   "execution_count": 6,
   "id": "25165f13-32aa-490b-9057-eef28325a7ed",
   "metadata": {},
   "outputs": [
    {
     "data": {
      "text/html": [
       "<div>\n",
       "<style scoped>\n",
       "    .dataframe tbody tr th:only-of-type {\n",
       "        vertical-align: middle;\n",
       "    }\n",
       "\n",
       "    .dataframe tbody tr th {\n",
       "        vertical-align: top;\n",
       "    }\n",
       "\n",
       "    .dataframe thead th {\n",
       "        text-align: right;\n",
       "    }\n",
       "</style>\n",
       "<table border=\"1\" class=\"dataframe\">\n",
       "  <thead>\n",
       "    <tr style=\"text-align: right;\">\n",
       "      <th></th>\n",
       "      <th>fixed acidity</th>\n",
       "      <th>volatile acidity</th>\n",
       "      <th>citric acid</th>\n",
       "      <th>residual sugar</th>\n",
       "      <th>chlorides</th>\n",
       "      <th>free sulfur dioxide</th>\n",
       "      <th>total sulfur dioxide</th>\n",
       "      <th>density</th>\n",
       "      <th>pH</th>\n",
       "      <th>sulphates</th>\n",
       "      <th>alcohol</th>\n",
       "      <th>quality</th>\n",
       "    </tr>\n",
       "  </thead>\n",
       "  <tbody>\n",
       "    <tr>\n",
       "      <th>0</th>\n",
       "      <td>7.4</td>\n",
       "      <td>0.70</td>\n",
       "      <td>0.00</td>\n",
       "      <td>1.9</td>\n",
       "      <td>0.076</td>\n",
       "      <td>11.0</td>\n",
       "      <td>34.0</td>\n",
       "      <td>0.9978</td>\n",
       "      <td>3.51</td>\n",
       "      <td>0.56</td>\n",
       "      <td>9.4</td>\n",
       "      <td>5</td>\n",
       "    </tr>\n",
       "    <tr>\n",
       "      <th>1</th>\n",
       "      <td>7.8</td>\n",
       "      <td>0.88</td>\n",
       "      <td>0.00</td>\n",
       "      <td>2.6</td>\n",
       "      <td>0.098</td>\n",
       "      <td>25.0</td>\n",
       "      <td>67.0</td>\n",
       "      <td>0.9968</td>\n",
       "      <td>3.20</td>\n",
       "      <td>0.68</td>\n",
       "      <td>9.8</td>\n",
       "      <td>5</td>\n",
       "    </tr>\n",
       "    <tr>\n",
       "      <th>2</th>\n",
       "      <td>7.8</td>\n",
       "      <td>0.76</td>\n",
       "      <td>0.04</td>\n",
       "      <td>2.3</td>\n",
       "      <td>0.092</td>\n",
       "      <td>15.0</td>\n",
       "      <td>54.0</td>\n",
       "      <td>0.9970</td>\n",
       "      <td>3.26</td>\n",
       "      <td>0.65</td>\n",
       "      <td>9.8</td>\n",
       "      <td>5</td>\n",
       "    </tr>\n",
       "    <tr>\n",
       "      <th>3</th>\n",
       "      <td>11.2</td>\n",
       "      <td>0.28</td>\n",
       "      <td>0.56</td>\n",
       "      <td>1.9</td>\n",
       "      <td>0.075</td>\n",
       "      <td>17.0</td>\n",
       "      <td>60.0</td>\n",
       "      <td>0.9980</td>\n",
       "      <td>3.16</td>\n",
       "      <td>0.58</td>\n",
       "      <td>9.8</td>\n",
       "      <td>6</td>\n",
       "    </tr>\n",
       "    <tr>\n",
       "      <th>4</th>\n",
       "      <td>7.4</td>\n",
       "      <td>0.70</td>\n",
       "      <td>0.00</td>\n",
       "      <td>1.9</td>\n",
       "      <td>0.076</td>\n",
       "      <td>11.0</td>\n",
       "      <td>34.0</td>\n",
       "      <td>0.9978</td>\n",
       "      <td>3.51</td>\n",
       "      <td>0.56</td>\n",
       "      <td>9.4</td>\n",
       "      <td>5</td>\n",
       "    </tr>\n",
       "  </tbody>\n",
       "</table>\n",
       "</div>"
      ],
      "text/plain": [
       "   fixed acidity  volatile acidity  citric acid  residual sugar  chlorides  \\\n",
       "0            7.4              0.70         0.00             1.9      0.076   \n",
       "1            7.8              0.88         0.00             2.6      0.098   \n",
       "2            7.8              0.76         0.04             2.3      0.092   \n",
       "3           11.2              0.28         0.56             1.9      0.075   \n",
       "4            7.4              0.70         0.00             1.9      0.076   \n",
       "\n",
       "   free sulfur dioxide  total sulfur dioxide  density    pH  sulphates  \\\n",
       "0                 11.0                  34.0   0.9978  3.51       0.56   \n",
       "1                 25.0                  67.0   0.9968  3.20       0.68   \n",
       "2                 15.0                  54.0   0.9970  3.26       0.65   \n",
       "3                 17.0                  60.0   0.9980  3.16       0.58   \n",
       "4                 11.0                  34.0   0.9978  3.51       0.56   \n",
       "\n",
       "   alcohol  quality  \n",
       "0      9.4        5  \n",
       "1      9.8        5  \n",
       "2      9.8        5  \n",
       "3      9.8        6  \n",
       "4      9.4        5  "
      ]
     },
     "execution_count": 6,
     "metadata": {},
     "output_type": "execute_result"
    }
   ],
   "source": [
    "data = pd.read_csv('winequality-red.csv', sep=';')\n",
    "data.head()"
   ]
  },
  {
   "cell_type": "code",
   "execution_count": 9,
   "id": "d8ddd608-f97c-4397-868b-ce4039ce48c1",
   "metadata": {},
   "outputs": [],
   "source": [
    "# PCA ES UN MODELO INTERMEDIO\n",
    "\n",
    "# SI VOY A HACER UNA PREDICCIÓN -> SEPARO ENTRE X e Y SIEMPRE\n",
    "\n",
    "# SI VOY A HACER UNA CLUSTERIZACIÓN\n",
    "#   -> Normalmente no separo entre X e Y porque quiero buscar similitudes entre usuarios\n",
    "#   -> Si se que es muy importante la columna quality por cuestiones de negocio -> separo"
   ]
  },
  {
   "cell_type": "code",
   "execution_count": 11,
   "id": "2f34fa77-b66d-4217-bab1-f5b525be14e8",
   "metadata": {},
   "outputs": [],
   "source": [
    "# Separar variables predictoras (X) y la variable objetivo (y)\n",
    "X = data.drop(columns=['quality'])  # Eliminamos la variable objetivo\n",
    "y = data['quality']  # Guardamos la variable objetivo para análisis posterior"
   ]
  },
  {
   "cell_type": "code",
   "execution_count": 13,
   "id": "1aa4e892-2d18-4f85-88fe-8b596949e85d",
   "metadata": {},
   "outputs": [
    {
     "data": {
      "text/html": [
       "<div>\n",
       "<style scoped>\n",
       "    .dataframe tbody tr th:only-of-type {\n",
       "        vertical-align: middle;\n",
       "    }\n",
       "\n",
       "    .dataframe tbody tr th {\n",
       "        vertical-align: top;\n",
       "    }\n",
       "\n",
       "    .dataframe thead th {\n",
       "        text-align: right;\n",
       "    }\n",
       "</style>\n",
       "<table border=\"1\" class=\"dataframe\">\n",
       "  <thead>\n",
       "    <tr style=\"text-align: right;\">\n",
       "      <th></th>\n",
       "      <th>fixed acidity</th>\n",
       "      <th>volatile acidity</th>\n",
       "      <th>citric acid</th>\n",
       "      <th>residual sugar</th>\n",
       "      <th>chlorides</th>\n",
       "      <th>free sulfur dioxide</th>\n",
       "      <th>total sulfur dioxide</th>\n",
       "      <th>density</th>\n",
       "      <th>pH</th>\n",
       "      <th>sulphates</th>\n",
       "      <th>alcohol</th>\n",
       "    </tr>\n",
       "  </thead>\n",
       "  <tbody>\n",
       "    <tr>\n",
       "      <th>0</th>\n",
       "      <td>7.4</td>\n",
       "      <td>0.70</td>\n",
       "      <td>0.00</td>\n",
       "      <td>1.9</td>\n",
       "      <td>0.076</td>\n",
       "      <td>11.0</td>\n",
       "      <td>34.0</td>\n",
       "      <td>0.9978</td>\n",
       "      <td>3.51</td>\n",
       "      <td>0.56</td>\n",
       "      <td>9.4</td>\n",
       "    </tr>\n",
       "    <tr>\n",
       "      <th>1</th>\n",
       "      <td>7.8</td>\n",
       "      <td>0.88</td>\n",
       "      <td>0.00</td>\n",
       "      <td>2.6</td>\n",
       "      <td>0.098</td>\n",
       "      <td>25.0</td>\n",
       "      <td>67.0</td>\n",
       "      <td>0.9968</td>\n",
       "      <td>3.20</td>\n",
       "      <td>0.68</td>\n",
       "      <td>9.8</td>\n",
       "    </tr>\n",
       "    <tr>\n",
       "      <th>2</th>\n",
       "      <td>7.8</td>\n",
       "      <td>0.76</td>\n",
       "      <td>0.04</td>\n",
       "      <td>2.3</td>\n",
       "      <td>0.092</td>\n",
       "      <td>15.0</td>\n",
       "      <td>54.0</td>\n",
       "      <td>0.9970</td>\n",
       "      <td>3.26</td>\n",
       "      <td>0.65</td>\n",
       "      <td>9.8</td>\n",
       "    </tr>\n",
       "    <tr>\n",
       "      <th>3</th>\n",
       "      <td>11.2</td>\n",
       "      <td>0.28</td>\n",
       "      <td>0.56</td>\n",
       "      <td>1.9</td>\n",
       "      <td>0.075</td>\n",
       "      <td>17.0</td>\n",
       "      <td>60.0</td>\n",
       "      <td>0.9980</td>\n",
       "      <td>3.16</td>\n",
       "      <td>0.58</td>\n",
       "      <td>9.8</td>\n",
       "    </tr>\n",
       "    <tr>\n",
       "      <th>4</th>\n",
       "      <td>7.4</td>\n",
       "      <td>0.70</td>\n",
       "      <td>0.00</td>\n",
       "      <td>1.9</td>\n",
       "      <td>0.076</td>\n",
       "      <td>11.0</td>\n",
       "      <td>34.0</td>\n",
       "      <td>0.9978</td>\n",
       "      <td>3.51</td>\n",
       "      <td>0.56</td>\n",
       "      <td>9.4</td>\n",
       "    </tr>\n",
       "  </tbody>\n",
       "</table>\n",
       "</div>"
      ],
      "text/plain": [
       "   fixed acidity  volatile acidity  citric acid  residual sugar  chlorides  \\\n",
       "0            7.4              0.70         0.00             1.9      0.076   \n",
       "1            7.8              0.88         0.00             2.6      0.098   \n",
       "2            7.8              0.76         0.04             2.3      0.092   \n",
       "3           11.2              0.28         0.56             1.9      0.075   \n",
       "4            7.4              0.70         0.00             1.9      0.076   \n",
       "\n",
       "   free sulfur dioxide  total sulfur dioxide  density    pH  sulphates  \\\n",
       "0                 11.0                  34.0   0.9978  3.51       0.56   \n",
       "1                 25.0                  67.0   0.9968  3.20       0.68   \n",
       "2                 15.0                  54.0   0.9970  3.26       0.65   \n",
       "3                 17.0                  60.0   0.9980  3.16       0.58   \n",
       "4                 11.0                  34.0   0.9978  3.51       0.56   \n",
       "\n",
       "   alcohol  \n",
       "0      9.4  \n",
       "1      9.8  \n",
       "2      9.8  \n",
       "3      9.8  \n",
       "4      9.4  "
      ]
     },
     "execution_count": 13,
     "metadata": {},
     "output_type": "execute_result"
    }
   ],
   "source": [
    "X.head()"
   ]
  },
  {
   "cell_type": "markdown",
   "id": "e7d2c468-c748-4133-b2ac-e1024d6633e6",
   "metadata": {},
   "source": [
    "### PCA"
   ]
  },
  {
   "cell_type": "markdown",
   "id": "a5372865-44f7-4e03-8325-41b16f776bf7",
   "metadata": {},
   "source": [
    "2. Estandarizar los datos"
   ]
  },
  {
   "cell_type": "code",
   "execution_count": 17,
   "id": "1d417997-2475-49a9-a3e4-1238ca33be1d",
   "metadata": {},
   "outputs": [
    {
     "data": {
      "text/plain": [
       "array([[-0.52835961,  0.96187667, -1.39147228, ...,  1.28864292,\n",
       "        -0.57920652, -0.96024611],\n",
       "       [-0.29854743,  1.96744245, -1.39147228, ..., -0.7199333 ,\n",
       "         0.1289504 , -0.58477711],\n",
       "       [-0.29854743,  1.29706527, -1.18607043, ..., -0.33117661,\n",
       "        -0.04808883, -0.58477711],\n",
       "       ...,\n",
       "       [-1.1603431 , -0.09955388, -0.72391627, ...,  0.70550789,\n",
       "         0.54204194,  0.54162988],\n",
       "       [-1.39015528,  0.65462046, -0.77526673, ...,  1.6773996 ,\n",
       "         0.30598963, -0.20930812],\n",
       "       [-1.33270223, -1.21684919,  1.02199944, ...,  0.51112954,\n",
       "         0.01092425,  0.54162988]])"
      ]
     },
     "execution_count": 17,
     "metadata": {},
     "output_type": "execute_result"
    }
   ],
   "source": [
    "scaler = StandardScaler()\n",
    "data_scaled = scaler.fit_transform(X)\n",
    "data_scaled"
   ]
  },
  {
   "cell_type": "code",
   "execution_count": 19,
   "id": "37425438-4fe5-4b4c-9432-e9c14c814c90",
   "metadata": {},
   "outputs": [],
   "source": [
    "#media = data.mean()\n",
    "#desvio = data.std()\n",
    "#X_estandar = (data-media)/desvio"
   ]
  },
  {
   "cell_type": "markdown",
   "id": "8ac44fe1-b0c1-4773-8dec-d0ccee154432",
   "metadata": {},
   "source": [
    "3. Aplicar PCA con todas las componentes principales y obtener las columnas transformadas"
   ]
  },
  {
   "cell_type": "code",
   "execution_count": 22,
   "id": "461abf05-ab3b-4aff-bbd8-65d71a19f706",
   "metadata": {},
   "outputs": [],
   "source": [
    "# Aplicar PCA\n",
    "pca = PCA(n_components=11)\n",
    "X_pca = pca.fit_transform(data_scaled)"
   ]
  },
  {
   "cell_type": "code",
   "execution_count": 24,
   "id": "f77f68a4-b74f-4e04-888e-f0a5b6f37aef",
   "metadata": {},
   "outputs": [
    {
     "data": {
      "text/plain": [
       "array([[-1.61952988,  0.45095009, -1.77445415, ..., -0.00509804,\n",
       "        -0.26775943,  0.04863012],\n",
       "       [-0.79916993,  1.85655306, -0.91169017, ...,  0.52070667,\n",
       "         0.06283285, -0.13814189],\n",
       "       [-0.74847909,  0.88203886, -1.17139423, ...,  0.08685693,\n",
       "        -0.18744237, -0.11822866],\n",
       "       ...,\n",
       "       [-1.45612897,  0.31174559,  1.12423941, ...,  0.80877339,\n",
       "         0.24224843, -0.40291033],\n",
       "       [-2.27051793,  0.97979111,  0.62796456, ...,  0.61224806,\n",
       "         0.77940384,  0.04092255],\n",
       "       [-0.42697475, -0.53669021,  1.6289552 , ..., -0.40430898,\n",
       "         0.77943963, -0.44978056]])"
      ]
     },
     "execution_count": 24,
     "metadata": {},
     "output_type": "execute_result"
    }
   ],
   "source": [
    "X_pca"
   ]
  },
  {
   "cell_type": "code",
   "execution_count": 26,
   "id": "b974b698-1a49-42c3-bd9a-83809d9e5210",
   "metadata": {},
   "outputs": [
    {
     "data": {
      "text/plain": [
       "array([70.39540306, 55.49350947, 49.79276091, 44.04496358, 39.16513784,\n",
       "       32.47635471, 30.55294028, 26.00591784, 23.47515165, 17.02796915,\n",
       "        9.75877763])"
      ]
     },
     "execution_count": 26,
     "metadata": {},
     "output_type": "execute_result"
    }
   ],
   "source": [
    "# son los desvíos asociados a cada componente principal\n",
    "pca.singular_values_"
   ]
  },
  {
   "cell_type": "code",
   "execution_count": 28,
   "id": "52a68197-5d4c-4517-93e4-1e5f51672aae",
   "metadata": {},
   "outputs": [
    {
     "name": "stdout",
     "output_type": "stream",
     "text": [
      "0.28173931278817277\n",
      "0.17508269905476756\n"
     ]
    }
   ],
   "source": [
    "# lambda explica la varianza, por lo que lambda se calcula como este valor al cuadrado\n",
    "lam = pca.singular_values_ ** 2\n",
    "print(lam[0] / sum(lam))\n",
    "print(lam[1] / sum(lam))"
   ]
  },
  {
   "cell_type": "markdown",
   "id": "4d94a6f5-6f15-4713-b207-e700e245cf04",
   "metadata": {},
   "source": [
    "4. Transformar columnas transformadas a DataFrame y calcular matriz de correlación de la misma (es el output de pca.fit_transform). Redondear a 2 decimales"
   ]
  },
  {
   "cell_type": "code",
   "execution_count": 31,
   "id": "149d8a55-c520-40e4-ba77-6bea2ebe76bb",
   "metadata": {},
   "outputs": [
    {
     "data": {
      "text/html": [
       "<div>\n",
       "<style scoped>\n",
       "    .dataframe tbody tr th:only-of-type {\n",
       "        vertical-align: middle;\n",
       "    }\n",
       "\n",
       "    .dataframe tbody tr th {\n",
       "        vertical-align: top;\n",
       "    }\n",
       "\n",
       "    .dataframe thead th {\n",
       "        text-align: right;\n",
       "    }\n",
       "</style>\n",
       "<table border=\"1\" class=\"dataframe\">\n",
       "  <thead>\n",
       "    <tr style=\"text-align: right;\">\n",
       "      <th></th>\n",
       "      <th>PC1</th>\n",
       "      <th>PC2</th>\n",
       "      <th>PC3</th>\n",
       "      <th>PC4</th>\n",
       "      <th>PC5</th>\n",
       "      <th>PC6</th>\n",
       "      <th>PC7</th>\n",
       "      <th>PC8</th>\n",
       "      <th>PC8</th>\n",
       "      <th>PC10</th>\n",
       "      <th>PC11</th>\n",
       "    </tr>\n",
       "  </thead>\n",
       "  <tbody>\n",
       "    <tr>\n",
       "      <th>0</th>\n",
       "      <td>-1.619530</td>\n",
       "      <td>0.450950</td>\n",
       "      <td>-1.774454</td>\n",
       "      <td>0.043740</td>\n",
       "      <td>0.067014</td>\n",
       "      <td>0.913921</td>\n",
       "      <td>0.161043</td>\n",
       "      <td>0.282258</td>\n",
       "      <td>-0.005098</td>\n",
       "      <td>-0.267759</td>\n",
       "      <td>0.048630</td>\n",
       "    </tr>\n",
       "    <tr>\n",
       "      <th>1</th>\n",
       "      <td>-0.799170</td>\n",
       "      <td>1.856553</td>\n",
       "      <td>-0.911690</td>\n",
       "      <td>0.548066</td>\n",
       "      <td>-0.018392</td>\n",
       "      <td>-0.929714</td>\n",
       "      <td>1.009829</td>\n",
       "      <td>-0.762587</td>\n",
       "      <td>0.520707</td>\n",
       "      <td>0.062833</td>\n",
       "      <td>-0.138142</td>\n",
       "    </tr>\n",
       "    <tr>\n",
       "      <th>2</th>\n",
       "      <td>-0.748479</td>\n",
       "      <td>0.882039</td>\n",
       "      <td>-1.171394</td>\n",
       "      <td>0.411021</td>\n",
       "      <td>-0.043531</td>\n",
       "      <td>-0.401473</td>\n",
       "      <td>0.539553</td>\n",
       "      <td>-0.597946</td>\n",
       "      <td>0.086857</td>\n",
       "      <td>-0.187442</td>\n",
       "      <td>-0.118229</td>\n",
       "    </tr>\n",
       "    <tr>\n",
       "      <th>3</th>\n",
       "      <td>2.357673</td>\n",
       "      <td>-0.269976</td>\n",
       "      <td>0.243489</td>\n",
       "      <td>-0.928450</td>\n",
       "      <td>-1.499149</td>\n",
       "      <td>0.131017</td>\n",
       "      <td>-0.344290</td>\n",
       "      <td>0.455375</td>\n",
       "      <td>-0.091577</td>\n",
       "      <td>-0.130393</td>\n",
       "      <td>0.316714</td>\n",
       "    </tr>\n",
       "    <tr>\n",
       "      <th>4</th>\n",
       "      <td>-1.619530</td>\n",
       "      <td>0.450950</td>\n",
       "      <td>-1.774454</td>\n",
       "      <td>0.043740</td>\n",
       "      <td>0.067014</td>\n",
       "      <td>0.913921</td>\n",
       "      <td>0.161043</td>\n",
       "      <td>0.282258</td>\n",
       "      <td>-0.005098</td>\n",
       "      <td>-0.267759</td>\n",
       "      <td>0.048630</td>\n",
       "    </tr>\n",
       "  </tbody>\n",
       "</table>\n",
       "</div>"
      ],
      "text/plain": [
       "        PC1       PC2       PC3       PC4       PC5       PC6       PC7  \\\n",
       "0 -1.619530  0.450950 -1.774454  0.043740  0.067014  0.913921  0.161043   \n",
       "1 -0.799170  1.856553 -0.911690  0.548066 -0.018392 -0.929714  1.009829   \n",
       "2 -0.748479  0.882039 -1.171394  0.411021 -0.043531 -0.401473  0.539553   \n",
       "3  2.357673 -0.269976  0.243489 -0.928450 -1.499149  0.131017 -0.344290   \n",
       "4 -1.619530  0.450950 -1.774454  0.043740  0.067014  0.913921  0.161043   \n",
       "\n",
       "        PC8       PC8      PC10      PC11  \n",
       "0  0.282258 -0.005098 -0.267759  0.048630  \n",
       "1 -0.762587  0.520707  0.062833 -0.138142  \n",
       "2 -0.597946  0.086857 -0.187442 -0.118229  \n",
       "3  0.455375 -0.091577 -0.130393  0.316714  \n",
       "4  0.282258 -0.005098 -0.267759  0.048630  "
      ]
     },
     "execution_count": 31,
     "metadata": {},
     "output_type": "execute_result"
    }
   ],
   "source": [
    "X_pca_tabla = pd.DataFrame(X_pca, columns=[\"PC1\", \"PC2\", \"PC3\", \"PC4\", \"PC5\", \"PC6\", \"PC7\", \"PC8\", \"PC8\", \"PC10\", \"PC11\"])\n",
    "X_pca_tabla.head()"
   ]
  },
  {
   "cell_type": "code",
   "execution_count": 36,
   "id": "f0c29af1-9e29-47ed-9c61-2dc090541520",
   "metadata": {
    "collapsed": true,
    "jupyter": {
     "outputs_hidden": true
    }
   },
   "outputs": [
    {
     "ename": "ValueError",
     "evalue": "Shape of passed values is (1599, 11), indices imply (1599, 12)",
     "output_type": "error",
     "traceback": [
      "\u001b[1;31m---------------------------------------------------------------------------\u001b[0m",
      "\u001b[1;31mValueError\u001b[0m                                Traceback (most recent call last)",
      "Cell \u001b[1;32mIn[36], line 1\u001b[0m\n\u001b[1;32m----> 1\u001b[0m X_pca_tabla \u001b[38;5;241m=\u001b[39m pd\u001b[38;5;241m.\u001b[39mDataFrame(\n\u001b[0;32m      2\u001b[0m     X_pca, \n\u001b[0;32m      3\u001b[0m     columns \u001b[38;5;241m=\u001b[39m [\u001b[38;5;124mf\u001b[39m\u001b[38;5;124m\"\u001b[39m\u001b[38;5;124mPC\u001b[39m\u001b[38;5;132;01m{\u001b[39;00mi\u001b[38;5;132;01m}\u001b[39;00m\u001b[38;5;124m\"\u001b[39m \u001b[38;5;28;01mfor\u001b[39;00m i \u001b[38;5;129;01min\u001b[39;00m \u001b[38;5;28mrange\u001b[39m(\u001b[38;5;241m1\u001b[39m,\u001b[38;5;241m13\u001b[39m)]\n\u001b[0;32m      4\u001b[0m )\n",
      "File \u001b[1;32m~\\anaconda3\\Lib\\site-packages\\pandas\\core\\frame.py:827\u001b[0m, in \u001b[0;36mDataFrame.__init__\u001b[1;34m(self, data, index, columns, dtype, copy)\u001b[0m\n\u001b[0;32m    816\u001b[0m         mgr \u001b[38;5;241m=\u001b[39m dict_to_mgr(\n\u001b[0;32m    817\u001b[0m             \u001b[38;5;66;03m# error: Item \"ndarray\" of \"Union[ndarray, Series, Index]\" has no\u001b[39;00m\n\u001b[0;32m    818\u001b[0m             \u001b[38;5;66;03m# attribute \"name\"\u001b[39;00m\n\u001b[1;32m   (...)\u001b[0m\n\u001b[0;32m    824\u001b[0m             copy\u001b[38;5;241m=\u001b[39m_copy,\n\u001b[0;32m    825\u001b[0m         )\n\u001b[0;32m    826\u001b[0m     \u001b[38;5;28;01melse\u001b[39;00m:\n\u001b[1;32m--> 827\u001b[0m         mgr \u001b[38;5;241m=\u001b[39m ndarray_to_mgr(\n\u001b[0;32m    828\u001b[0m             data,\n\u001b[0;32m    829\u001b[0m             index,\n\u001b[0;32m    830\u001b[0m             columns,\n\u001b[0;32m    831\u001b[0m             dtype\u001b[38;5;241m=\u001b[39mdtype,\n\u001b[0;32m    832\u001b[0m             copy\u001b[38;5;241m=\u001b[39mcopy,\n\u001b[0;32m    833\u001b[0m             typ\u001b[38;5;241m=\u001b[39mmanager,\n\u001b[0;32m    834\u001b[0m         )\n\u001b[0;32m    836\u001b[0m \u001b[38;5;66;03m# For data is list-like, or Iterable (will consume into list)\u001b[39;00m\n\u001b[0;32m    837\u001b[0m \u001b[38;5;28;01melif\u001b[39;00m is_list_like(data):\n",
      "File \u001b[1;32m~\\anaconda3\\Lib\\site-packages\\pandas\\core\\internals\\construction.py:336\u001b[0m, in \u001b[0;36mndarray_to_mgr\u001b[1;34m(values, index, columns, dtype, copy, typ)\u001b[0m\n\u001b[0;32m    331\u001b[0m \u001b[38;5;66;03m# _prep_ndarraylike ensures that values.ndim == 2 at this point\u001b[39;00m\n\u001b[0;32m    332\u001b[0m index, columns \u001b[38;5;241m=\u001b[39m _get_axes(\n\u001b[0;32m    333\u001b[0m     values\u001b[38;5;241m.\u001b[39mshape[\u001b[38;5;241m0\u001b[39m], values\u001b[38;5;241m.\u001b[39mshape[\u001b[38;5;241m1\u001b[39m], index\u001b[38;5;241m=\u001b[39mindex, columns\u001b[38;5;241m=\u001b[39mcolumns\n\u001b[0;32m    334\u001b[0m )\n\u001b[1;32m--> 336\u001b[0m _check_values_indices_shape_match(values, index, columns)\n\u001b[0;32m    338\u001b[0m \u001b[38;5;28;01mif\u001b[39;00m typ \u001b[38;5;241m==\u001b[39m \u001b[38;5;124m\"\u001b[39m\u001b[38;5;124marray\u001b[39m\u001b[38;5;124m\"\u001b[39m:\n\u001b[0;32m    339\u001b[0m     \u001b[38;5;28;01mif\u001b[39;00m \u001b[38;5;28missubclass\u001b[39m(values\u001b[38;5;241m.\u001b[39mdtype\u001b[38;5;241m.\u001b[39mtype, \u001b[38;5;28mstr\u001b[39m):\n",
      "File \u001b[1;32m~\\anaconda3\\Lib\\site-packages\\pandas\\core\\internals\\construction.py:420\u001b[0m, in \u001b[0;36m_check_values_indices_shape_match\u001b[1;34m(values, index, columns)\u001b[0m\n\u001b[0;32m    418\u001b[0m passed \u001b[38;5;241m=\u001b[39m values\u001b[38;5;241m.\u001b[39mshape\n\u001b[0;32m    419\u001b[0m implied \u001b[38;5;241m=\u001b[39m (\u001b[38;5;28mlen\u001b[39m(index), \u001b[38;5;28mlen\u001b[39m(columns))\n\u001b[1;32m--> 420\u001b[0m \u001b[38;5;28;01mraise\u001b[39;00m \u001b[38;5;167;01mValueError\u001b[39;00m(\u001b[38;5;124mf\u001b[39m\u001b[38;5;124m\"\u001b[39m\u001b[38;5;124mShape of passed values is \u001b[39m\u001b[38;5;132;01m{\u001b[39;00mpassed\u001b[38;5;132;01m}\u001b[39;00m\u001b[38;5;124m, indices imply \u001b[39m\u001b[38;5;132;01m{\u001b[39;00mimplied\u001b[38;5;132;01m}\u001b[39;00m\u001b[38;5;124m\"\u001b[39m)\n",
      "\u001b[1;31mValueError\u001b[0m: Shape of passed values is (1599, 11), indices imply (1599, 12)"
     ]
    }
   ],
   "source": [
    "X_pca_tabla = pd.DataFrame(\n",
    "    X_pca, \n",
    "    columns = [f\"PC{i}\" for i in range(1,13)]\n",
    ")"
   ]
  },
  {
   "cell_type": "code",
   "execution_count": 38,
   "id": "d8d5f1b6-e773-4b47-be48-8e0dda9f646e",
   "metadata": {},
   "outputs": [
    {
     "data": {
      "text/html": [
       "<div>\n",
       "<style scoped>\n",
       "    .dataframe tbody tr th:only-of-type {\n",
       "        vertical-align: middle;\n",
       "    }\n",
       "\n",
       "    .dataframe tbody tr th {\n",
       "        vertical-align: top;\n",
       "    }\n",
       "\n",
       "    .dataframe thead th {\n",
       "        text-align: right;\n",
       "    }\n",
       "</style>\n",
       "<table border=\"1\" class=\"dataframe\">\n",
       "  <thead>\n",
       "    <tr style=\"text-align: right;\">\n",
       "      <th></th>\n",
       "      <th>0</th>\n",
       "      <th>1</th>\n",
       "      <th>2</th>\n",
       "      <th>3</th>\n",
       "      <th>4</th>\n",
       "      <th>5</th>\n",
       "      <th>6</th>\n",
       "      <th>7</th>\n",
       "      <th>8</th>\n",
       "      <th>9</th>\n",
       "      <th>10</th>\n",
       "    </tr>\n",
       "  </thead>\n",
       "  <tbody>\n",
       "    <tr>\n",
       "      <th>0</th>\n",
       "      <td>1.0</td>\n",
       "      <td>-0.0</td>\n",
       "      <td>-0.0</td>\n",
       "      <td>-0.0</td>\n",
       "      <td>0.0</td>\n",
       "      <td>0.0</td>\n",
       "      <td>-0.0</td>\n",
       "      <td>-0.0</td>\n",
       "      <td>0.0</td>\n",
       "      <td>-0.0</td>\n",
       "      <td>0.0</td>\n",
       "    </tr>\n",
       "    <tr>\n",
       "      <th>1</th>\n",
       "      <td>-0.0</td>\n",
       "      <td>1.0</td>\n",
       "      <td>-0.0</td>\n",
       "      <td>-0.0</td>\n",
       "      <td>0.0</td>\n",
       "      <td>-0.0</td>\n",
       "      <td>0.0</td>\n",
       "      <td>0.0</td>\n",
       "      <td>0.0</td>\n",
       "      <td>0.0</td>\n",
       "      <td>0.0</td>\n",
       "    </tr>\n",
       "    <tr>\n",
       "      <th>2</th>\n",
       "      <td>-0.0</td>\n",
       "      <td>-0.0</td>\n",
       "      <td>1.0</td>\n",
       "      <td>0.0</td>\n",
       "      <td>0.0</td>\n",
       "      <td>0.0</td>\n",
       "      <td>-0.0</td>\n",
       "      <td>0.0</td>\n",
       "      <td>0.0</td>\n",
       "      <td>0.0</td>\n",
       "      <td>0.0</td>\n",
       "    </tr>\n",
       "    <tr>\n",
       "      <th>3</th>\n",
       "      <td>-0.0</td>\n",
       "      <td>-0.0</td>\n",
       "      <td>0.0</td>\n",
       "      <td>1.0</td>\n",
       "      <td>-0.0</td>\n",
       "      <td>0.0</td>\n",
       "      <td>0.0</td>\n",
       "      <td>-0.0</td>\n",
       "      <td>0.0</td>\n",
       "      <td>-0.0</td>\n",
       "      <td>0.0</td>\n",
       "    </tr>\n",
       "    <tr>\n",
       "      <th>4</th>\n",
       "      <td>0.0</td>\n",
       "      <td>0.0</td>\n",
       "      <td>0.0</td>\n",
       "      <td>-0.0</td>\n",
       "      <td>1.0</td>\n",
       "      <td>0.0</td>\n",
       "      <td>0.0</td>\n",
       "      <td>-0.0</td>\n",
       "      <td>0.0</td>\n",
       "      <td>-0.0</td>\n",
       "      <td>0.0</td>\n",
       "    </tr>\n",
       "    <tr>\n",
       "      <th>5</th>\n",
       "      <td>0.0</td>\n",
       "      <td>-0.0</td>\n",
       "      <td>0.0</td>\n",
       "      <td>0.0</td>\n",
       "      <td>0.0</td>\n",
       "      <td>1.0</td>\n",
       "      <td>-0.0</td>\n",
       "      <td>0.0</td>\n",
       "      <td>0.0</td>\n",
       "      <td>-0.0</td>\n",
       "      <td>0.0</td>\n",
       "    </tr>\n",
       "    <tr>\n",
       "      <th>6</th>\n",
       "      <td>-0.0</td>\n",
       "      <td>0.0</td>\n",
       "      <td>-0.0</td>\n",
       "      <td>0.0</td>\n",
       "      <td>0.0</td>\n",
       "      <td>-0.0</td>\n",
       "      <td>1.0</td>\n",
       "      <td>0.0</td>\n",
       "      <td>0.0</td>\n",
       "      <td>0.0</td>\n",
       "      <td>0.0</td>\n",
       "    </tr>\n",
       "    <tr>\n",
       "      <th>7</th>\n",
       "      <td>-0.0</td>\n",
       "      <td>0.0</td>\n",
       "      <td>0.0</td>\n",
       "      <td>-0.0</td>\n",
       "      <td>-0.0</td>\n",
       "      <td>0.0</td>\n",
       "      <td>0.0</td>\n",
       "      <td>1.0</td>\n",
       "      <td>0.0</td>\n",
       "      <td>-0.0</td>\n",
       "      <td>-0.0</td>\n",
       "    </tr>\n",
       "    <tr>\n",
       "      <th>8</th>\n",
       "      <td>0.0</td>\n",
       "      <td>0.0</td>\n",
       "      <td>0.0</td>\n",
       "      <td>0.0</td>\n",
       "      <td>0.0</td>\n",
       "      <td>0.0</td>\n",
       "      <td>0.0</td>\n",
       "      <td>0.0</td>\n",
       "      <td>1.0</td>\n",
       "      <td>-0.0</td>\n",
       "      <td>0.0</td>\n",
       "    </tr>\n",
       "    <tr>\n",
       "      <th>9</th>\n",
       "      <td>-0.0</td>\n",
       "      <td>0.0</td>\n",
       "      <td>0.0</td>\n",
       "      <td>-0.0</td>\n",
       "      <td>-0.0</td>\n",
       "      <td>-0.0</td>\n",
       "      <td>0.0</td>\n",
       "      <td>-0.0</td>\n",
       "      <td>-0.0</td>\n",
       "      <td>1.0</td>\n",
       "      <td>-0.0</td>\n",
       "    </tr>\n",
       "    <tr>\n",
       "      <th>10</th>\n",
       "      <td>0.0</td>\n",
       "      <td>0.0</td>\n",
       "      <td>0.0</td>\n",
       "      <td>0.0</td>\n",
       "      <td>0.0</td>\n",
       "      <td>0.0</td>\n",
       "      <td>0.0</td>\n",
       "      <td>-0.0</td>\n",
       "      <td>0.0</td>\n",
       "      <td>-0.0</td>\n",
       "      <td>1.0</td>\n",
       "    </tr>\n",
       "  </tbody>\n",
       "</table>\n",
       "</div>"
      ],
      "text/plain": [
       "     0    1    2    3    4    5    6    7    8    9    10\n",
       "0   1.0 -0.0 -0.0 -0.0  0.0  0.0 -0.0 -0.0  0.0 -0.0  0.0\n",
       "1  -0.0  1.0 -0.0 -0.0  0.0 -0.0  0.0  0.0  0.0  0.0  0.0\n",
       "2  -0.0 -0.0  1.0  0.0  0.0  0.0 -0.0  0.0  0.0  0.0  0.0\n",
       "3  -0.0 -0.0  0.0  1.0 -0.0  0.0  0.0 -0.0  0.0 -0.0  0.0\n",
       "4   0.0  0.0  0.0 -0.0  1.0  0.0  0.0 -0.0  0.0 -0.0  0.0\n",
       "5   0.0 -0.0  0.0  0.0  0.0  1.0 -0.0  0.0  0.0 -0.0  0.0\n",
       "6  -0.0  0.0 -0.0  0.0  0.0 -0.0  1.0  0.0  0.0  0.0  0.0\n",
       "7  -0.0  0.0  0.0 -0.0 -0.0  0.0  0.0  1.0  0.0 -0.0 -0.0\n",
       "8   0.0  0.0  0.0  0.0  0.0  0.0  0.0  0.0  1.0 -0.0  0.0\n",
       "9  -0.0  0.0  0.0 -0.0 -0.0 -0.0  0.0 -0.0 -0.0  1.0 -0.0\n",
       "10  0.0  0.0  0.0  0.0  0.0  0.0  0.0 -0.0  0.0 -0.0  1.0"
      ]
     },
     "execution_count": 38,
     "metadata": {},
     "output_type": "execute_result"
    }
   ],
   "source": [
    "# verifico que tienen correlación 0 las componentes principales\n",
    "pd.DataFrame(X_pca).corr().round(2)"
   ]
  },
  {
   "cell_type": "markdown",
   "id": "213e8631-5442-4be0-bec3-4c7bee235170",
   "metadata": {},
   "source": [
    "5. Mostrar cuanta variabilidad explica cada una de las variables y seleccionar la cantidad de componentes principales necesarias para explicar por lo menos el 75% de la variablidad "
   ]
  },
  {
   "cell_type": "code",
   "execution_count": 41,
   "id": "a9c125a7-0272-4899-b0dc-821f6cfe145b",
   "metadata": {},
   "outputs": [
    {
     "name": "stdout",
     "output_type": "stream",
     "text": [
      "Varianza explicada por cada componente: [0.28173931 0.1750827  0.1409585  0.11029387 0.08720837 0.05996439\n",
      " 0.05307193 0.03845061 0.0313311  0.01648483 0.00541439]\n",
      "Varianza total explicada con 3 componentes: 100.00%\n"
     ]
    }
   ],
   "source": [
    "explained_variance = pca.explained_variance_ratio_\n",
    "print(f\"Varianza explicada por cada componente: {explained_variance}\")\n",
    "print(f\"Varianza total explicada con 3 componentes: {sum(explained_variance) * 100:.2f}%\")"
   ]
  },
  {
   "cell_type": "code",
   "execution_count": 43,
   "id": "1ece952d-c0dc-4b87-aa10-201a94c0bf67",
   "metadata": {},
   "outputs": [
    {
     "data": {
      "text/plain": [
       "array([0.28173931, 0.45682201, 0.59778051, 0.70807438, 0.79528275,\n",
       "       0.85524714, 0.90831906, 0.94676967, 0.97810077, 0.99458561,\n",
       "       1.        ])"
      ]
     },
     "execution_count": 43,
     "metadata": {},
     "output_type": "execute_result"
    }
   ],
   "source": [
    "# este es el ratio de cuanto se explica de la varianza con cada una de las componentes.\n",
    "pca.explained_variance_ratio_.cumsum()"
   ]
  },
  {
   "cell_type": "code",
   "execution_count": 45,
   "id": "9646030f-eb55-49dc-8cf3-7ca443735e05",
   "metadata": {},
   "outputs": [],
   "source": [
    "# Vemos que las primeras 5 ya explican un 79%"
   ]
  },
  {
   "cell_type": "code",
   "execution_count": null,
   "id": "b5631e73-674d-443b-b15e-0f1988530d49",
   "metadata": {},
   "outputs": [],
   "source": []
  },
  {
   "cell_type": "markdown",
   "id": "c19e3b6c-457b-4782-8619-a5e459b97931",
   "metadata": {},
   "source": [
    "6. Crear una variable data_clean que contenga una tabla con todas las componentes principales seleccionadas"
   ]
  },
  {
   "cell_type": "code",
   "execution_count": 49,
   "id": "6d4d86d5-b723-4909-8058-6480a36b0565",
   "metadata": {},
   "outputs": [
    {
     "data": {
      "text/html": [
       "<div>\n",
       "<style scoped>\n",
       "    .dataframe tbody tr th:only-of-type {\n",
       "        vertical-align: middle;\n",
       "    }\n",
       "\n",
       "    .dataframe tbody tr th {\n",
       "        vertical-align: top;\n",
       "    }\n",
       "\n",
       "    .dataframe thead th {\n",
       "        text-align: right;\n",
       "    }\n",
       "</style>\n",
       "<table border=\"1\" class=\"dataframe\">\n",
       "  <thead>\n",
       "    <tr style=\"text-align: right;\">\n",
       "      <th></th>\n",
       "      <th>PC1</th>\n",
       "      <th>PC2</th>\n",
       "      <th>PC3</th>\n",
       "      <th>PC4</th>\n",
       "      <th>PC5</th>\n",
       "    </tr>\n",
       "  </thead>\n",
       "  <tbody>\n",
       "    <tr>\n",
       "      <th>0</th>\n",
       "      <td>-1.619530</td>\n",
       "      <td>0.450950</td>\n",
       "      <td>-1.774454</td>\n",
       "      <td>0.043740</td>\n",
       "      <td>0.067014</td>\n",
       "    </tr>\n",
       "    <tr>\n",
       "      <th>1</th>\n",
       "      <td>-0.799170</td>\n",
       "      <td>1.856553</td>\n",
       "      <td>-0.911690</td>\n",
       "      <td>0.548066</td>\n",
       "      <td>-0.018392</td>\n",
       "    </tr>\n",
       "    <tr>\n",
       "      <th>2</th>\n",
       "      <td>-0.748479</td>\n",
       "      <td>0.882039</td>\n",
       "      <td>-1.171394</td>\n",
       "      <td>0.411021</td>\n",
       "      <td>-0.043531</td>\n",
       "    </tr>\n",
       "    <tr>\n",
       "      <th>3</th>\n",
       "      <td>2.357673</td>\n",
       "      <td>-0.269976</td>\n",
       "      <td>0.243489</td>\n",
       "      <td>-0.928450</td>\n",
       "      <td>-1.499149</td>\n",
       "    </tr>\n",
       "    <tr>\n",
       "      <th>4</th>\n",
       "      <td>-1.619530</td>\n",
       "      <td>0.450950</td>\n",
       "      <td>-1.774454</td>\n",
       "      <td>0.043740</td>\n",
       "      <td>0.067014</td>\n",
       "    </tr>\n",
       "  </tbody>\n",
       "</table>\n",
       "</div>"
      ],
      "text/plain": [
       "        PC1       PC2       PC3       PC4       PC5\n",
       "0 -1.619530  0.450950 -1.774454  0.043740  0.067014\n",
       "1 -0.799170  1.856553 -0.911690  0.548066 -0.018392\n",
       "2 -0.748479  0.882039 -1.171394  0.411021 -0.043531\n",
       "3  2.357673 -0.269976  0.243489 -0.928450 -1.499149\n",
       "4 -1.619530  0.450950 -1.774454  0.043740  0.067014"
      ]
     },
     "execution_count": 49,
     "metadata": {},
     "output_type": "execute_result"
    }
   ],
   "source": [
    "# Aplicar PCA\n",
    "pca = PCA(n_components=5)\n",
    "X_pca = pca.fit_transform(data_scaled)\n",
    "\n",
    "data_clean = pd.DataFrame(X_pca, columns=[\"PC1\", \"PC2\", \"PC3\", \"PC4\", \"PC5\"])\n",
    "data_clean.head()"
   ]
  },
  {
   "cell_type": "markdown",
   "id": "f1a88d90-78ab-43c8-b5f8-af0231621aaf",
   "metadata": {},
   "source": [
    "### Extra: Clusterizar los datos"
   ]
  },
  {
   "cell_type": "markdown",
   "id": "e1725ea4-9a50-4d9e-8654-be0ef6c7f38c",
   "metadata": {},
   "source": [
    "7. Realizar K-Means para clusterizar los datos. Usar 5 clusters"
   ]
  },
  {
   "cell_type": "code",
   "execution_count": 53,
   "id": "466196a6-de0a-4fb9-b297-27018e1b780f",
   "metadata": {},
   "outputs": [],
   "source": [
    "kmeans = KMeans(n_clusters=5, random_state=42, n_init=10, max_iter=300)\n",
    "kmeans.fit(data_clean)\n",
    "clusters = kmeans.fit_predict(data_clean)\n",
    "#cluster = modelo.labels_"
   ]
  },
  {
   "cell_type": "code",
   "execution_count": 55,
   "id": "0a601210-3db8-4993-b5ed-15e9929f8520",
   "metadata": {},
   "outputs": [
    {
     "data": {
      "text/plain": [
       "array([3, 3, 3, ..., 0, 3, 0])"
      ]
     },
     "execution_count": 55,
     "metadata": {},
     "output_type": "execute_result"
    }
   ],
   "source": [
    "kmeans.labels_"
   ]
  },
  {
   "cell_type": "code",
   "execution_count": 57,
   "id": "b664bd39-3579-4fb5-9831-be64db01c679",
   "metadata": {},
   "outputs": [
    {
     "data": {
      "text/html": [
       "<div>\n",
       "<style scoped>\n",
       "    .dataframe tbody tr th:only-of-type {\n",
       "        vertical-align: middle;\n",
       "    }\n",
       "\n",
       "    .dataframe tbody tr th {\n",
       "        vertical-align: top;\n",
       "    }\n",
       "\n",
       "    .dataframe thead th {\n",
       "        text-align: right;\n",
       "    }\n",
       "</style>\n",
       "<table border=\"1\" class=\"dataframe\">\n",
       "  <thead>\n",
       "    <tr style=\"text-align: right;\">\n",
       "      <th></th>\n",
       "      <th>fixed acidity</th>\n",
       "      <th>volatile acidity</th>\n",
       "      <th>citric acid</th>\n",
       "      <th>residual sugar</th>\n",
       "      <th>chlorides</th>\n",
       "      <th>free sulfur dioxide</th>\n",
       "      <th>total sulfur dioxide</th>\n",
       "      <th>density</th>\n",
       "      <th>pH</th>\n",
       "      <th>sulphates</th>\n",
       "      <th>alcohol</th>\n",
       "      <th>quality</th>\n",
       "    </tr>\n",
       "    <tr>\n",
       "      <th>Cluster</th>\n",
       "      <th></th>\n",
       "      <th></th>\n",
       "      <th></th>\n",
       "      <th></th>\n",
       "      <th></th>\n",
       "      <th></th>\n",
       "      <th></th>\n",
       "      <th></th>\n",
       "      <th></th>\n",
       "      <th></th>\n",
       "      <th></th>\n",
       "      <th></th>\n",
       "    </tr>\n",
       "  </thead>\n",
       "  <tbody>\n",
       "    <tr>\n",
       "      <th>0</th>\n",
       "      <td>7.100955</td>\n",
       "      <td>0.446847</td>\n",
       "      <td>0.242357</td>\n",
       "      <td>2.157325</td>\n",
       "      <td>0.068054</td>\n",
       "      <td>17.520701</td>\n",
       "      <td>39.821656</td>\n",
       "      <td>0.994437</td>\n",
       "      <td>3.409172</td>\n",
       "      <td>0.679395</td>\n",
       "      <td>11.741773</td>\n",
       "      <td>6.146497</td>\n",
       "    </tr>\n",
       "    <tr>\n",
       "      <th>1</th>\n",
       "      <td>10.632337</td>\n",
       "      <td>0.405666</td>\n",
       "      <td>0.489592</td>\n",
       "      <td>2.724592</td>\n",
       "      <td>0.086859</td>\n",
       "      <td>9.926630</td>\n",
       "      <td>28.497283</td>\n",
       "      <td>0.998193</td>\n",
       "      <td>3.181060</td>\n",
       "      <td>0.714429</td>\n",
       "      <td>10.614855</td>\n",
       "      <td>5.951087</td>\n",
       "    </tr>\n",
       "    <tr>\n",
       "      <th>2</th>\n",
       "      <td>8.236550</td>\n",
       "      <td>0.536213</td>\n",
       "      <td>0.293099</td>\n",
       "      <td>3.208918</td>\n",
       "      <td>0.088269</td>\n",
       "      <td>27.698830</td>\n",
       "      <td>90.245614</td>\n",
       "      <td>0.997471</td>\n",
       "      <td>3.287251</td>\n",
       "      <td>0.635088</td>\n",
       "      <td>9.836647</td>\n",
       "      <td>5.350877</td>\n",
       "    </tr>\n",
       "    <tr>\n",
       "      <th>3</th>\n",
       "      <td>7.506227</td>\n",
       "      <td>0.651291</td>\n",
       "      <td>0.114396</td>\n",
       "      <td>2.243132</td>\n",
       "      <td>0.084531</td>\n",
       "      <td>11.570513</td>\n",
       "      <td>34.152015</td>\n",
       "      <td>0.996628</td>\n",
       "      <td>3.371154</td>\n",
       "      <td>0.588956</td>\n",
       "      <td>9.952442</td>\n",
       "      <td>5.324176</td>\n",
       "    </tr>\n",
       "    <tr>\n",
       "      <th>4</th>\n",
       "      <td>8.462069</td>\n",
       "      <td>0.531034</td>\n",
       "      <td>0.493793</td>\n",
       "      <td>1.975862</td>\n",
       "      <td>0.351172</td>\n",
       "      <td>15.137931</td>\n",
       "      <td>62.068966</td>\n",
       "      <td>0.997097</td>\n",
       "      <td>3.050690</td>\n",
       "      <td>1.288621</td>\n",
       "      <td>9.482759</td>\n",
       "      <td>5.344828</td>\n",
       "    </tr>\n",
       "  </tbody>\n",
       "</table>\n",
       "</div>"
      ],
      "text/plain": [
       "         fixed acidity  volatile acidity  citric acid  residual sugar  \\\n",
       "Cluster                                                                 \n",
       "0             7.100955          0.446847     0.242357        2.157325   \n",
       "1            10.632337          0.405666     0.489592        2.724592   \n",
       "2             8.236550          0.536213     0.293099        3.208918   \n",
       "3             7.506227          0.651291     0.114396        2.243132   \n",
       "4             8.462069          0.531034     0.493793        1.975862   \n",
       "\n",
       "         chlorides  free sulfur dioxide  total sulfur dioxide   density  \\\n",
       "Cluster                                                                   \n",
       "0         0.068054            17.520701             39.821656  0.994437   \n",
       "1         0.086859             9.926630             28.497283  0.998193   \n",
       "2         0.088269            27.698830             90.245614  0.997471   \n",
       "3         0.084531            11.570513             34.152015  0.996628   \n",
       "4         0.351172            15.137931             62.068966  0.997097   \n",
       "\n",
       "               pH  sulphates    alcohol   quality  \n",
       "Cluster                                            \n",
       "0        3.409172   0.679395  11.741773  6.146497  \n",
       "1        3.181060   0.714429  10.614855  5.951087  \n",
       "2        3.287251   0.635088   9.836647  5.350877  \n",
       "3        3.371154   0.588956   9.952442  5.324176  \n",
       "4        3.050690   1.288621   9.482759  5.344828  "
      ]
     },
     "execution_count": 57,
     "metadata": {},
     "output_type": "execute_result"
    }
   ],
   "source": [
    "data['Cluster'] = clusters\n",
    "data.groupby('Cluster').mean()"
   ]
  },
  {
   "cell_type": "markdown",
   "id": "e8bd8270-4bdc-43ed-a398-c289111718c8",
   "metadata": {},
   "source": [
    "8. Con el método del codo analizar la cantidad óptima de clusters a seleccionar"
   ]
  },
  {
   "cell_type": "code",
   "execution_count": 65,
   "id": "8edf41ea-3d41-44d8-b93c-15f9d5f2c81d",
   "metadata": {},
   "outputs": [
    {
     "data": {
      "image/png": "[encoded data removed]",
      "text/plain": [
       "<Figure size 800x500 with 1 Axes>"
      ]
     },
     "metadata": {},
     "output_type": "display_data"
    }
   ],
   "source": [
    "# 🔹 4. Método del codo para elegir el número óptimo de clusters\n",
    "inertia = []\n",
    "K_range = range(1, 11)\n",
    "\n",
    "for k in K_range:\n",
    "    kmeans = KMeans(n_clusters=k, random_state=42, n_init=10, max_iter=300)\n",
    "    kmeans.fit(data_clean)\n",
    "    inertia.append(kmeans.inertia_)\n",
    "\n",
    "plt.figure(figsize=(8, 5))\n",
    "plt.plot(K_range, inertia, marker='o', linestyle='--', color='b')\n",
    "plt.xlabel('Número de Clusters')\n",
    "plt.ylabel('Inercia')\n",
    "plt.title('Método del Codo para Seleccionar K')\n",
    "plt.grid()\n",
    "plt.savefig(\"1.png\") \n",
    "plt.show()\n"
   ]
  },
  {
   "cell_type": "code",
   "execution_count": 62,
   "id": "bf6c37a6-96e1-4d66-bfef-cb54dd897f64",
   "metadata": {},
   "outputs": [
    {
     "data": {
      "text/plain": [
       "[13988.22824333326,\n",
       " 10734.164940560991,\n",
       " 9047.84569716121,\n",
       " 7751.292566772682,\n",
       " 6631.62666357257,\n",
       " 5917.102486383959,\n",
       " 5248.622707311983,\n",
       " 4934.198656448434,\n",
       " 4692.55018229644,\n",
       " 4447.868157817484]"
      ]
     },
     "execution_count": 62,
     "metadata": {},
     "output_type": "execute_result"
    }
   ],
   "source": [
    "inertia"
   ]
  },
  {
   "cell_type": "code",
   "execution_count": null,
   "id": "52d48161-8308-40b8-b273-152928ef6a94",
   "metadata": {},
   "outputs": [],
   "source": []
  }
 ],
 "metadata": {
  "kernelspec": {
   "display_name": "Python [conda env:base] *",
   "language": "python",
   "name": "conda-base-py"
  },
  "language_info": {
   "codemirror_mode": {
    "name": "ipython",
    "version": 3
   },
   "file_extension": ".py",
   "mimetype": "text/x-python",
   "name": "python",
   "nbconvert_exporter": "python",
   "pygments_lexer": "ipython3",
   "version": "3.12.7"
  }
 },
 "nbformat": 4,
 "nbformat_minor": 5
}
