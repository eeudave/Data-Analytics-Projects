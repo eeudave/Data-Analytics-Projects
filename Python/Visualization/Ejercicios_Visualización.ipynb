{
 "cells": [
  {
   "cell_type": "markdown",
   "id": "c7e2a36a-baad-4070-a727-cecb42550265",
   "metadata": {
    "id": "c7e2a36a-baad-4070-a727-cecb42550265"
   },
   "source": [
    "## Visualización"
   ]
  },
  {
   "cell_type": "code",
   "execution_count": 3,
   "id": "d060d35a-11bf-4722-b343-a0474e73c64a",
   "metadata": {
    "id": "d060d35a-11bf-4722-b343-a0474e73c64a"
   },
   "outputs": [],
   "source": [
    "import pandas as pd\n",
    "import seaborn as sns\n",
    "import matplotlib.pyplot as plt\n",
    "import pyodbc"
   ]
  },
  {
   "cell_type": "markdown",
   "id": "fbffc5b6-0642-44d3-8439-d6ec47b4ea2f",
   "metadata": {
    "id": "fbffc5b6-0642-44d3-8439-d6ec47b4ea2f"
   },
   "source": [
    "### Ejercicio 1\n",
    "Establece una conexión con la base de datos AdventureWorks2022 y muestra los primeros 3 registros de la tabla `HumanResources.Employee`"
   ]
  },
  {
   "cell_type": "code",
   "execution_count": 6,
   "id": "bea1941e-5763-4258-939d-573c0d3df914",
   "metadata": {
    "id": "bea1941e-5763-4258-939d-573c0d3df914",
    "jupyter": {
     "source_hidden": true
    }
   },
   "outputs": [],
   "source": [
    "# Realizo la conexión con la base de datos\n",
    "conn = pyodbc.connect(\n",
    "    'DRIVER={SQL Server};\\\n",
    "    SERVER={217.160.32.109};\\\n",
    "    DATABASE={AdventureWorks2022};\\\n",
    "    UID={alumnos_neoland};\\\n",
    "    PWD={Neoland2024}'\n",
    ")"
   ]
  },
  {
   "cell_type": "code",
   "execution_count": 8,
   "id": "3698e1ea-d56c-405d-ab18-4fed8595b14a",
   "metadata": {
    "jupyter": {
     "source_hidden": true
    }
   },
   "outputs": [],
   "source": [
    "# Funcion para conectarse y hacer consulta\n",
    "def consulta(query):\n",
    "    \"\"\"\n",
    "    DOCUMENTACION\n",
    "    \"\"\"\n",
    "    cursor = conn.cursor()\n",
    "    cursor.execute(query)\n",
    "    rows = cursor.fetchall()\n",
    "    columns = [i[0] for i in cursor.description]\n",
    "    df = pd.DataFrame.from_records(\n",
    "        rows,\n",
    "        columns = columns\n",
    "    )\n",
    "    return df"
   ]
  },
  {
   "cell_type": "code",
   "execution_count": 10,
   "id": "09d2cb3b-1cf5-4a9a-905b-b6675e868892",
   "metadata": {},
   "outputs": [
    {
     "data": {
      "text/html": [
       "<div>\n",
       "<style scoped>\n",
       "    .dataframe tbody tr th:only-of-type {\n",
       "        vertical-align: middle;\n",
       "    }\n",
       "\n",
       "    .dataframe tbody tr th {\n",
       "        vertical-align: top;\n",
       "    }\n",
       "\n",
       "    .dataframe thead th {\n",
       "        text-align: right;\n",
       "    }\n",
       "</style>\n",
       "<table border=\"1\" class=\"dataframe\">\n",
       "  <thead>\n",
       "    <tr style=\"text-align: right;\">\n",
       "      <th></th>\n",
       "      <th>BusinessEntityID</th>\n",
       "      <th>NationalIDNumber</th>\n",
       "      <th>LoginID</th>\n",
       "      <th>OrganizationNode</th>\n",
       "      <th>OrganizationLevel</th>\n",
       "      <th>JobTitle</th>\n",
       "      <th>BirthDate</th>\n",
       "      <th>MaritalStatus</th>\n",
       "      <th>Gender</th>\n",
       "      <th>HireDate</th>\n",
       "      <th>SalariedFlag</th>\n",
       "      <th>VacationHours</th>\n",
       "      <th>SickLeaveHours</th>\n",
       "      <th>CurrentFlag</th>\n",
       "      <th>rowguid</th>\n",
       "      <th>ModifiedDate</th>\n",
       "    </tr>\n",
       "  </thead>\n",
       "  <tbody>\n",
       "    <tr>\n",
       "      <th>0</th>\n",
       "      <td>1</td>\n",
       "      <td>295847284</td>\n",
       "      <td>adventure-works\\ken0</td>\n",
       "      <td>None</td>\n",
       "      <td>NaN</td>\n",
       "      <td>Chief Executive Officer</td>\n",
       "      <td>1969-01-29</td>\n",
       "      <td>S</td>\n",
       "      <td>M</td>\n",
       "      <td>2009-01-14</td>\n",
       "      <td>True</td>\n",
       "      <td>99</td>\n",
       "      <td>69</td>\n",
       "      <td>True</td>\n",
       "      <td>F01251E5-96A3-448D-981E-0F99D789110D</td>\n",
       "      <td>2014-06-30</td>\n",
       "    </tr>\n",
       "    <tr>\n",
       "      <th>1</th>\n",
       "      <td>2</td>\n",
       "      <td>245797967</td>\n",
       "      <td>adventure-works\\terri0</td>\n",
       "      <td>b'X'</td>\n",
       "      <td>1.0</td>\n",
       "      <td>Vice President of Engineering</td>\n",
       "      <td>1971-08-01</td>\n",
       "      <td>S</td>\n",
       "      <td>F</td>\n",
       "      <td>2008-01-31</td>\n",
       "      <td>True</td>\n",
       "      <td>1</td>\n",
       "      <td>20</td>\n",
       "      <td>True</td>\n",
       "      <td>45E8F437-670D-4409-93CB-F9424A40D6EE</td>\n",
       "      <td>2014-06-30</td>\n",
       "    </tr>\n",
       "    <tr>\n",
       "      <th>2</th>\n",
       "      <td>3</td>\n",
       "      <td>509647174</td>\n",
       "      <td>adventure-works\\roberto0</td>\n",
       "      <td>b'Z\\xc0'</td>\n",
       "      <td>2.0</td>\n",
       "      <td>Engineering Manager</td>\n",
       "      <td>1974-11-12</td>\n",
       "      <td>M</td>\n",
       "      <td>M</td>\n",
       "      <td>2007-11-11</td>\n",
       "      <td>True</td>\n",
       "      <td>2</td>\n",
       "      <td>21</td>\n",
       "      <td>True</td>\n",
       "      <td>9BBBFB2C-EFBB-4217-9AB7-F97689328841</td>\n",
       "      <td>2014-06-30</td>\n",
       "    </tr>\n",
       "  </tbody>\n",
       "</table>\n",
       "</div>"
      ],
      "text/plain": [
       "   BusinessEntityID NationalIDNumber                   LoginID  \\\n",
       "0                 1        295847284      adventure-works\\ken0   \n",
       "1                 2        245797967    adventure-works\\terri0   \n",
       "2                 3        509647174  adventure-works\\roberto0   \n",
       "\n",
       "  OrganizationNode  OrganizationLevel                       JobTitle  \\\n",
       "0             None                NaN        Chief Executive Officer   \n",
       "1             b'X'                1.0  Vice President of Engineering   \n",
       "2         b'Z\\xc0'                2.0            Engineering Manager   \n",
       "\n",
       "    BirthDate MaritalStatus Gender    HireDate  SalariedFlag  VacationHours  \\\n",
       "0  1969-01-29             S      M  2009-01-14          True             99   \n",
       "1  1971-08-01             S      F  2008-01-31          True              1   \n",
       "2  1974-11-12             M      M  2007-11-11          True              2   \n",
       "\n",
       "   SickLeaveHours  CurrentFlag                               rowguid  \\\n",
       "0              69         True  F01251E5-96A3-448D-981E-0F99D789110D   \n",
       "1              20         True  45E8F437-670D-4409-93CB-F9424A40D6EE   \n",
       "2              21         True  9BBBFB2C-EFBB-4217-9AB7-F97689328841   \n",
       "\n",
       "  ModifiedDate  \n",
       "0   2014-06-30  \n",
       "1   2014-06-30  \n",
       "2   2014-06-30  "
      ]
     },
     "execution_count": 10,
     "metadata": {},
     "output_type": "execute_result"
    }
   ],
   "source": [
    "query = 'SELECT TOP 3 * FROM HumanResources.Employee'\n",
    "consulta(query)"
   ]
  },
  {
   "cell_type": "markdown",
   "id": "517f5ed9-dc9e-4fa8-a5ff-d9b2fbc6b4fc",
   "metadata": {
    "id": "517f5ed9-dc9e-4fa8-a5ff-d9b2fbc6b4fc"
   },
   "source": [
    "### Ejercicio 2\n",
    "De la tabla `HumanResources.Employee` mostrar la cantidad de empleados por `MaritalStatus` en un gráfico de barras"
   ]
  },
  {
   "cell_type": "code",
   "execution_count": 13,
   "id": "2bcc45ea-89c8-4ffd-a2b9-aafbde2dc097",
   "metadata": {
    "id": "2bcc45ea-89c8-4ffd-a2b9-aafbde2dc097"
   },
   "outputs": [],
   "source": [
    "query = 'SELECT MaritalStatus, COUNT(BusinessEntityID) as Empleados FROM HumanResources.Employee GROUP BY MaritalStatus'\n",
    "marital = consulta(query)"
   ]
  },
  {
   "cell_type": "code",
   "execution_count": 15,
   "id": "9538f42c-f05c-47da-b4e2-a47a97097f18",
   "metadata": {
    "id": "9538f42c-f05c-47da-b4e2-a47a97097f18"
   },
   "outputs": [
    {
     "data": {
      "text/plain": [
       "<Axes: xlabel='MaritalStatus', ylabel='Empleados'>"
      ]
     },
     "execution_count": 15,
     "metadata": {},
     "output_type": "execute_result"
    },
    {
     "data": {
      "image/png": "[encoded data removed]",
      "text/plain": [
       "<Figure size 640x480 with 1 Axes>"
      ]
     },
     "metadata": {},
     "output_type": "display_data"
    }
   ],
   "source": [
    "sns.barplot(\n",
    "    data = marital,\n",
    "    x = 'MaritalStatus',\n",
    "    y = 'Empleados',\n",
    ")"
   ]
  },
  {
   "cell_type": "code",
   "execution_count": null,
   "id": "554656e3-6323-45b5-9cf6-127ff05a0a51",
   "metadata": {
    "id": "554656e3-6323-45b5-9cf6-127ff05a0a51"
   },
   "outputs": [],
   "source": []
  },
  {
   "cell_type": "markdown",
   "id": "6af88636-1370-48e1-a295-ef74ddb7eff2",
   "metadata": {
    "id": "6af88636-1370-48e1-a295-ef74ddb7eff2"
   },
   "source": [
    "### Ejercicio 3\n",
    "De la tabla `HumanResources.Employee` mostrar la cantidad de empleados por `MaritalStatus` en un gráfico de barras. Mostrar una barra por cada `Gender`"
   ]
  },
  {
   "cell_type": "code",
   "execution_count": 19,
   "id": "7445ca45-07fb-4b82-bce4-844b7a6101a0",
   "metadata": {
    "id": "7445ca45-07fb-4b82-bce4-844b7a6101a0",
    "scrolled": true
   },
   "outputs": [],
   "source": [
    "query = 'SELECT MaritalStatus, Gender, COUNT(BusinessEntityID) as Empleados FROM HumanResources.Employee GROUP BY MaritalStatus, Gender'\n",
    "maritalg = consulta(query)"
   ]
  },
  {
   "cell_type": "code",
   "execution_count": 21,
   "id": "601f835d-5504-440d-a6dd-0979168aa0f1",
   "metadata": {},
   "outputs": [
    {
     "data": {
      "text/plain": [
       "<Axes: xlabel='MaritalStatus', ylabel='Empleados'>"
      ]
     },
     "execution_count": 21,
     "metadata": {},
     "output_type": "execute_result"
    },
    {
     "data": {
      "image/png": "[encoded data removed]",
      "text/plain": [
       "<Figure size 640x480 with 1 Axes>"
      ]
     },
     "metadata": {},
     "output_type": "display_data"
    }
   ],
   "source": [
    "sns.barplot(\n",
    "    data = maritalg,\n",
    "    x = 'MaritalStatus',\n",
    "    y = 'Empleados',\n",
    "    hue = 'Gender',\n",
    "    palette = 'bright'\n",
    ")"
   ]
  },
  {
   "cell_type": "markdown",
   "id": "0fec547b-bdc4-467f-8df9-4db846a70662",
   "metadata": {
    "id": "0fec547b-bdc4-467f-8df9-4db846a70662"
   },
   "source": [
    "### Ejercicio 4\n",
    "De la tabla `Sales.SalesOrderHeader` mostrar el total de ventas (`TotalDue`) mensuales (`OrderDate`)en un gráfico de líneas.\n",
    "\n",
    "Puede ser de utilidad leer sobre el módulo `dt` dentro de pandas, en particular:\n",
    "* el método `dt.to_period()` para extraer el mes de la venta (https://pandas.pydata.org/docs/reference/api/pandas.Series.dt.to_period.html)\n",
    "* el método `dt.to_timestamp()` para convertir el resultado anterior en una fecha (https://pandas.pydata.org/docs/reference/api/pandas.DataFrame.to_timestamp.html#pandas.DataFrame.to_timestamp)"
   ]
  },
  {
   "cell_type": "code",
   "execution_count": 24,
   "id": "7065cafb-5488-4962-be54-b59e688c22a3",
   "metadata": {
    "id": "7065cafb-5488-4962-be54-b59e688c22a3"
   },
   "outputs": [],
   "source": [
    "query = 'SELECT OrderDate, SUM(TotalDue) AS TotalVentas FROM Sales.SalesOrderHeader GROUP BY OrderDate ORDER BY OrderDate'\n",
    "ventasdia = consulta(query)"
   ]
  },
  {
   "cell_type": "code",
   "execution_count": 26,
   "id": "2fb0f500-7c17-4463-b619-2f79b2911837",
   "metadata": {},
   "outputs": [],
   "source": [
    "#ventasdia['OrderDate'] = pd.to_datetime(ventasdia['OrderDate'], format = \"%Y/%m/%d\")\n",
    "ventasdia['OrderDate'] = ventasdia['OrderDate'].dt.to_period('M').dt.to_timestamp()\n"
   ]
  },
  {
   "cell_type": "code",
   "execution_count": 28,
   "id": "58ea462b-6f97-4c70-9d29-021c6721ec37",
   "metadata": {
    "id": "58ea462b-6f97-4c70-9d29-021c6721ec37",
    "scrolled": true
   },
   "outputs": [
    {
     "data": {
      "text/html": [
       "<div>\n",
       "<style scoped>\n",
       "    .dataframe tbody tr th:only-of-type {\n",
       "        vertical-align: middle;\n",
       "    }\n",
       "\n",
       "    .dataframe tbody tr th {\n",
       "        vertical-align: top;\n",
       "    }\n",
       "\n",
       "    .dataframe thead th {\n",
       "        text-align: right;\n",
       "    }\n",
       "</style>\n",
       "<table border=\"1\" class=\"dataframe\">\n",
       "  <thead>\n",
       "    <tr style=\"text-align: right;\">\n",
       "      <th></th>\n",
       "      <th>OrderDate</th>\n",
       "      <th>TotalVentas</th>\n",
       "    </tr>\n",
       "  </thead>\n",
       "  <tbody>\n",
       "    <tr>\n",
       "      <th>0</th>\n",
       "      <td>2011-05-01</td>\n",
       "      <td>567020.9498</td>\n",
       "    </tr>\n",
       "    <tr>\n",
       "      <th>1</th>\n",
       "      <td>2011-06-01</td>\n",
       "      <td>507096.4690</td>\n",
       "    </tr>\n",
       "    <tr>\n",
       "      <th>2</th>\n",
       "      <td>2011-07-01</td>\n",
       "      <td>2292182.8828</td>\n",
       "    </tr>\n",
       "    <tr>\n",
       "      <th>3</th>\n",
       "      <td>2011-08-01</td>\n",
       "      <td>2800576.1723</td>\n",
       "    </tr>\n",
       "    <tr>\n",
       "      <th>4</th>\n",
       "      <td>2011-09-01</td>\n",
       "      <td>554791.6082</td>\n",
       "    </tr>\n",
       "    <tr>\n",
       "      <th>5</th>\n",
       "      <td>2011-10-01</td>\n",
       "      <td>5156269.5291</td>\n",
       "    </tr>\n",
       "    <tr>\n",
       "      <th>6</th>\n",
       "      <td>2011-11-01</td>\n",
       "      <td>815313.0152</td>\n",
       "    </tr>\n",
       "    <tr>\n",
       "      <th>7</th>\n",
       "      <td>2011-12-01</td>\n",
       "      <td>1462448.8986</td>\n",
       "    </tr>\n",
       "    <tr>\n",
       "      <th>8</th>\n",
       "      <td>2012-01-01</td>\n",
       "      <td>4458337.4444</td>\n",
       "    </tr>\n",
       "    <tr>\n",
       "      <th>9</th>\n",
       "      <td>2012-02-01</td>\n",
       "      <td>1649051.9001</td>\n",
       "    </tr>\n",
       "    <tr>\n",
       "      <th>10</th>\n",
       "      <td>2012-03-01</td>\n",
       "      <td>3336347.4716</td>\n",
       "    </tr>\n",
       "    <tr>\n",
       "      <th>11</th>\n",
       "      <td>2012-04-01</td>\n",
       "      <td>1871923.5039</td>\n",
       "    </tr>\n",
       "    <tr>\n",
       "      <th>12</th>\n",
       "      <td>2012-05-01</td>\n",
       "      <td>3452924.4537</td>\n",
       "    </tr>\n",
       "    <tr>\n",
       "      <th>13</th>\n",
       "      <td>2012-06-01</td>\n",
       "      <td>4610647.2153</td>\n",
       "    </tr>\n",
       "    <tr>\n",
       "      <th>14</th>\n",
       "      <td>2012-07-01</td>\n",
       "      <td>3840231.4590</td>\n",
       "    </tr>\n",
       "    <tr>\n",
       "      <th>15</th>\n",
       "      <td>2012-08-01</td>\n",
       "      <td>2442451.1831</td>\n",
       "    </tr>\n",
       "    <tr>\n",
       "      <th>16</th>\n",
       "      <td>2012-09-01</td>\n",
       "      <td>3881724.1860</td>\n",
       "    </tr>\n",
       "    <tr>\n",
       "      <th>17</th>\n",
       "      <td>2012-10-01</td>\n",
       "      <td>2858060.1970</td>\n",
       "    </tr>\n",
       "    <tr>\n",
       "      <th>18</th>\n",
       "      <td>2012-11-01</td>\n",
       "      <td>2097153.1292</td>\n",
       "    </tr>\n",
       "    <tr>\n",
       "      <th>19</th>\n",
       "      <td>2012-12-01</td>\n",
       "      <td>3176848.1687</td>\n",
       "    </tr>\n",
       "    <tr>\n",
       "      <th>20</th>\n",
       "      <td>2013-01-01</td>\n",
       "      <td>2340061.5521</td>\n",
       "    </tr>\n",
       "    <tr>\n",
       "      <th>21</th>\n",
       "      <td>2013-02-01</td>\n",
       "      <td>2600218.8667</td>\n",
       "    </tr>\n",
       "    <tr>\n",
       "      <th>22</th>\n",
       "      <td>2013-03-01</td>\n",
       "      <td>3831605.9389</td>\n",
       "    </tr>\n",
       "    <tr>\n",
       "      <th>23</th>\n",
       "      <td>2013-04-01</td>\n",
       "      <td>2840711.1734</td>\n",
       "    </tr>\n",
       "    <tr>\n",
       "      <th>24</th>\n",
       "      <td>2013-05-01</td>\n",
       "      <td>3658084.9461</td>\n",
       "    </tr>\n",
       "    <tr>\n",
       "      <th>25</th>\n",
       "      <td>2013-06-01</td>\n",
       "      <td>5726265.2635</td>\n",
       "    </tr>\n",
       "    <tr>\n",
       "      <th>26</th>\n",
       "      <td>2013-07-01</td>\n",
       "      <td>5521840.8445</td>\n",
       "    </tr>\n",
       "    <tr>\n",
       "      <th>27</th>\n",
       "      <td>2013-08-01</td>\n",
       "      <td>3733973.0032</td>\n",
       "    </tr>\n",
       "    <tr>\n",
       "      <th>28</th>\n",
       "      <td>2013-09-01</td>\n",
       "      <td>5083505.3374</td>\n",
       "    </tr>\n",
       "    <tr>\n",
       "      <th>29</th>\n",
       "      <td>2013-10-01</td>\n",
       "      <td>5374375.9418</td>\n",
       "    </tr>\n",
       "    <tr>\n",
       "      <th>30</th>\n",
       "      <td>2013-11-01</td>\n",
       "      <td>3694667.9998</td>\n",
       "    </tr>\n",
       "    <tr>\n",
       "      <th>31</th>\n",
       "      <td>2013-12-01</td>\n",
       "      <td>4560577.0958</td>\n",
       "    </tr>\n",
       "    <tr>\n",
       "      <th>32</th>\n",
       "      <td>2014-01-01</td>\n",
       "      <td>4798027.8709</td>\n",
       "    </tr>\n",
       "    <tr>\n",
       "      <th>33</th>\n",
       "      <td>2014-02-01</td>\n",
       "      <td>1478213.2920</td>\n",
       "    </tr>\n",
       "    <tr>\n",
       "      <th>34</th>\n",
       "      <td>2014-03-01</td>\n",
       "      <td>8097036.3137</td>\n",
       "    </tr>\n",
       "    <tr>\n",
       "      <th>35</th>\n",
       "      <td>2014-04-01</td>\n",
       "      <td>1985886.1496</td>\n",
       "    </tr>\n",
       "    <tr>\n",
       "      <th>36</th>\n",
       "      <td>2014-05-01</td>\n",
       "      <td>6006183.2110</td>\n",
       "    </tr>\n",
       "    <tr>\n",
       "      <th>37</th>\n",
       "      <td>2014-06-01</td>\n",
       "      <td>54151.4785</td>\n",
       "    </tr>\n",
       "  </tbody>\n",
       "</table>\n",
       "</div>"
      ],
      "text/plain": [
       "    OrderDate   TotalVentas\n",
       "0  2011-05-01   567020.9498\n",
       "1  2011-06-01   507096.4690\n",
       "2  2011-07-01  2292182.8828\n",
       "3  2011-08-01  2800576.1723\n",
       "4  2011-09-01   554791.6082\n",
       "5  2011-10-01  5156269.5291\n",
       "6  2011-11-01   815313.0152\n",
       "7  2011-12-01  1462448.8986\n",
       "8  2012-01-01  4458337.4444\n",
       "9  2012-02-01  1649051.9001\n",
       "10 2012-03-01  3336347.4716\n",
       "11 2012-04-01  1871923.5039\n",
       "12 2012-05-01  3452924.4537\n",
       "13 2012-06-01  4610647.2153\n",
       "14 2012-07-01  3840231.4590\n",
       "15 2012-08-01  2442451.1831\n",
       "16 2012-09-01  3881724.1860\n",
       "17 2012-10-01  2858060.1970\n",
       "18 2012-11-01  2097153.1292\n",
       "19 2012-12-01  3176848.1687\n",
       "20 2013-01-01  2340061.5521\n",
       "21 2013-02-01  2600218.8667\n",
       "22 2013-03-01  3831605.9389\n",
       "23 2013-04-01  2840711.1734\n",
       "24 2013-05-01  3658084.9461\n",
       "25 2013-06-01  5726265.2635\n",
       "26 2013-07-01  5521840.8445\n",
       "27 2013-08-01  3733973.0032\n",
       "28 2013-09-01  5083505.3374\n",
       "29 2013-10-01  5374375.9418\n",
       "30 2013-11-01  3694667.9998\n",
       "31 2013-12-01  4560577.0958\n",
       "32 2014-01-01  4798027.8709\n",
       "33 2014-02-01  1478213.2920\n",
       "34 2014-03-01  8097036.3137\n",
       "35 2014-04-01  1985886.1496\n",
       "36 2014-05-01  6006183.2110\n",
       "37 2014-06-01    54151.4785"
      ]
     },
     "execution_count": 28,
     "metadata": {},
     "output_type": "execute_result"
    }
   ],
   "source": [
    "#ventasdia['DueDate'] = ventasdia['DueDate'].dt.month_name()\n",
    "ventasmes = ventasdia.groupby('OrderDate').sum().reset_index()\n",
    "ventasmes"
   ]
  },
  {
   "cell_type": "code",
   "execution_count": 30,
   "id": "a036a7e0-29e1-4d41-827b-796a5a5045f1",
   "metadata": {
    "id": "a036a7e0-29e1-4d41-827b-796a5a5045f1"
   },
   "outputs": [
    {
     "data": {
      "image/png": "[encoded data removed]",
      "text/plain": [
       "<Figure size 640x480 with 1 Axes>"
      ]
     },
     "metadata": {},
     "output_type": "display_data"
    }
   ],
   "source": [
    "# Crear gráfico de línea\n",
    "sns.lineplot(\n",
    "    data = ventasmes, \n",
    "    x = \"OrderDate\", \n",
    "    y = \"TotalVentas\", \n",
    "    color = \"blue\"\n",
    ")\n",
    "# Personalizar\n",
    "plt.title(\"Ventas Mensuales\")\n",
    "plt.grid()\n",
    "# Rotar etiquetas del eje X\n",
    "plt.xticks(rotation=45)\n",
    "plt.xlabel(\"Mes\")\n",
    "# Aplicar formato en millones\n",
    "#plt.gca().yaxis.set_major_formatter(mticker.FuncFormatter(lambda x, _: f'{x/1e6:.1f}M'))\n",
    "plt.ylabel(\"Ventas (millones)\")\n",
    "plt.show()"
   ]
  },
  {
   "cell_type": "code",
   "execution_count": null,
   "id": "8b694f98-34d8-4eae-a148-274dfccd2ef5",
   "metadata": {},
   "outputs": [],
   "source": []
  },
  {
   "cell_type": "markdown",
   "id": "ac51671f-66b7-4ce4-a01c-02c918ab166d",
   "metadata": {
    "id": "ac51671f-66b7-4ce4-a01c-02c918ab166d"
   },
   "source": [
    "### Ejercicio 5\n",
    "De la tabla `Production.Product` mostrar un histograma con los precios de lista de los productos (`ListPrice`). No deben ser tenidos en cuenta los productos con precio de lista igual a cero."
   ]
  },
  {
   "cell_type": "code",
   "execution_count": 34,
   "id": "2af6d88c-83a9-45fd-a619-83f0394f7511",
   "metadata": {
    "id": "2af6d88c-83a9-45fd-a619-83f0394f7511"
   },
   "outputs": [],
   "source": [
    "query = 'SELECT p.ProductId, psc.ProductCategoryID, p.ProductSubcategoryID, pc.Name AS CatName, p.Name AS ProdName, p.ListPrice FROM Production.Product p LEFT JOIN Production.ProductSubCategory psc ON p.ProductSubCategoryID = psc.ProductSubCategoryID LEFT JOIN Production.ProductCategory pc ON psc.ProductCategoryID = pc.ProductCategoryID WHERE p.ListPrice > 0 '\n",
    "precios = consulta(query)"
   ]
  },
  {
   "cell_type": "code",
   "execution_count": 36,
   "id": "7ad9e637-aced-4bbb-a6ca-ed85f39a81bb",
   "metadata": {
    "id": "7ad9e637-aced-4bbb-a6ca-ed85f39a81bb"
   },
   "outputs": [
    {
     "data": {
      "text/plain": [
       "<Axes: xlabel='ListPrice', ylabel='Count'>"
      ]
     },
     "execution_count": 36,
     "metadata": {},
     "output_type": "execute_result"
    },
    {
     "data": {
      "image/png": "[encoded data removed]",
      "text/plain": [
       "<Figure size 640x480 with 1 Axes>"
      ]
     },
     "metadata": {},
     "output_type": "display_data"
    }
   ],
   "source": [
    "sns.histplot(\n",
    "    data = precios,\n",
    "    x = 'ListPrice'\n",
    ")"
   ]
  },
  {
   "cell_type": "markdown",
   "id": "1192816b-8c9d-4f11-a012-280c1e6ed421",
   "metadata": {
    "id": "1192816b-8c9d-4f11-a012-280c1e6ed421"
   },
   "source": [
    "### Ejercicio 6\n",
    "De la tabla `Production.Product` mostrar un histograma con los precios de lista de los productos (`ListPrice`). No deben ser tenidos en cuenta los productos con precio de lista igual a cero.\n",
    "\n",
    "Además tiene que verse el detalle por categoría de producto"
   ]
  },
  {
   "cell_type": "code",
   "execution_count": 39,
   "id": "d5eeda71-75c8-4c95-a9d9-d7a0bda0eb12",
   "metadata": {
    "id": "d5eeda71-75c8-4c95-a9d9-d7a0bda0eb12",
    "scrolled": true
   },
   "outputs": [
    {
     "data": {
      "text/plain": [
       "<Axes: xlabel='ListPrice', ylabel='Count'>"
      ]
     },
     "execution_count": 39,
     "metadata": {},
     "output_type": "execute_result"
    },
    {
     "data": {
      "image/png": "[encoded data removed]",
      "text/plain": [
       "<Figure size 640x480 with 1 Axes>"
      ]
     },
     "metadata": {},
     "output_type": "display_data"
    }
   ],
   "source": [
    "sns.histplot(\n",
    "    data = precios,\n",
    "    x = 'ListPrice',\n",
    "    hue = 'CatName',\n",
    "    kde = 'true',\n",
    "    palette = 'bright',\n",
    "    multiple = 'stack'\n",
    ")"
   ]
  },
  {
   "cell_type": "code",
   "execution_count": null,
   "id": "ab988510-b014-49b3-af27-d7123ee1e311",
   "metadata": {
    "id": "ab988510-b014-49b3-af27-d7123ee1e311"
   },
   "outputs": [],
   "source": []
  },
  {
   "cell_type": "code",
   "execution_count": null,
   "id": "d04a7726-53fb-4de6-96f2-6b0d02dd9ca9",
   "metadata": {},
   "outputs": [],
   "source": []
  }
 ],
 "metadata": {
  "colab": {
   "provenance": []
  },
  "kernelspec": {
   "display_name": "Python [conda env:base] *",
   "language": "python",
   "name": "conda-base-py"
  },
  "language_info": {
   "codemirror_mode": {
    "name": "ipython",
    "version": 3
   },
   "file_extension": ".py",
   "mimetype": "text/x-python",
   "name": "python",
   "nbconvert_exporter": "python",
   "pygments_lexer": "ipython3",
   "version": "3.12.7"
  }
 },
 "nbformat": 4,
 "nbformat_minor": 5
}
