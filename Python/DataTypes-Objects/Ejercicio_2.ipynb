{
 "cells": [
  {
   "cell_type": "markdown",
   "id": "14efc4fc",
   "metadata": {},
   "source": [
    "# Ejercicios"
   ]
  },
  {
   "cell_type": "markdown",
   "id": "f60fb583",
   "metadata": {},
   "source": [
    "## Listas"
   ]
  },
  {
   "cell_type": "markdown",
   "id": "7920bd29",
   "metadata": {},
   "source": [
    "1. Dada la siguiente lista, buscar como acceder al elemento `objetivo`:"
   ]
  },
  {
   "cell_type": "code",
   "execution_count": 5,
   "id": "cd699427",
   "metadata": {},
   "outputs": [],
   "source": [
    "lista = [1, 2, [\"hola\", True, [4, [10, \"objetivo\"], 9, \"manzana\"], \"hoja\",7],49]"
   ]
  },
  {
   "cell_type": "code",
   "execution_count": 13,
   "id": "388fd14d",
   "metadata": {},
   "outputs": [
    {
     "data": {
      "text/plain": [
       "'objetivo'"
      ]
     },
     "execution_count": 13,
     "metadata": {},
     "output_type": "execute_result"
    }
   ],
   "source": [
    "lista[2][2][1][1]"
   ]
  },
  {
   "cell_type": "markdown",
   "id": "6651e588",
   "metadata": {},
   "source": [
    "2. Invertir el orden de los elementos de la siguiente lista:"
   ]
  },
  {
   "cell_type": "code",
   "execution_count": 18,
   "id": "0cf358fa",
   "metadata": {},
   "outputs": [],
   "source": [
    "lista = [1, 2, 3, 4, 5, 6, 7]"
   ]
  },
  {
   "cell_type": "code",
   "execution_count": 20,
   "id": "60fad9cd",
   "metadata": {},
   "outputs": [
    {
     "data": {
      "text/plain": [
       "[7, 6, 5, 4, 3, 2, 1]"
      ]
     },
     "execution_count": 20,
     "metadata": {},
     "output_type": "execute_result"
    }
   ],
   "source": [
    "lista[::-1]"
   ]
  },
  {
   "cell_type": "markdown",
   "id": "a08ea463",
   "metadata": {},
   "source": [
    "3. Mostrar únicamente los elementos con posición par de la siguiente lista:"
   ]
  },
  {
   "cell_type": "code",
   "execution_count": 115,
   "id": "6e656d02",
   "metadata": {},
   "outputs": [],
   "source": [
    "lista = [\"a\", \"b\", \"c\", \"d\", \"e\", \"f\", \"g\"] # b, d, f"
   ]
  },
  {
   "cell_type": "code",
   "execution_count": 117,
   "id": "90cbc6fa",
   "metadata": {},
   "outputs": [
    {
     "data": {
      "text/plain": [
       "['a', 'c', 'e', 'g']"
      ]
     },
     "execution_count": 117,
     "metadata": {},
     "output_type": "execute_result"
    }
   ],
   "source": [
    "lista[::2]"
   ]
  },
  {
   "cell_type": "markdown",
   "id": "cbac5b72",
   "metadata": {},
   "source": [
    "4. Agregar el elemento \"nuevo\" al final de la siguiente lista:"
   ]
  },
  {
   "cell_type": "code",
   "execution_count": 119,
   "id": "f5f48b20",
   "metadata": {},
   "outputs": [],
   "source": [
    "lista = [\"hola\", 1, 5, True]"
   ]
  },
  {
   "cell_type": "code",
   "execution_count": 121,
   "id": "62ad456c",
   "metadata": {},
   "outputs": [],
   "source": [
    "lista.append('nuevo') "
   ]
  },
  {
   "cell_type": "code",
   "execution_count": 123,
   "id": "9cec9d7a-f2c4-475c-9a5b-c4c3b1d1d68f",
   "metadata": {},
   "outputs": [
    {
     "data": {
      "text/plain": [
       "['hola', 1, 5, True, 'nuevo']"
      ]
     },
     "execution_count": 123,
     "metadata": {},
     "output_type": "execute_result"
    }
   ],
   "source": [
    "lista"
   ]
  },
  {
   "cell_type": "markdown",
   "id": "fa362ba3",
   "metadata": {},
   "source": [
    "5. Eliminar el lemento `True` de la siguiente lista:"
   ]
  },
  {
   "cell_type": "code",
   "execution_count": 32,
   "id": "e449adee",
   "metadata": {},
   "outputs": [],
   "source": [
    "lista = [\"hola\", 1, 5, True, \"nuevo\"]"
   ]
  },
  {
   "cell_type": "code",
   "execution_count": 34,
   "id": "79ad45f4",
   "metadata": {},
   "outputs": [
    {
     "data": {
      "text/plain": [
       "['hola', 1, 5, 'nuevo']"
      ]
     },
     "execution_count": 34,
     "metadata": {},
     "output_type": "execute_result"
    }
   ],
   "source": [
    "lista.pop(3)\n",
    "lista"
   ]
  },
  {
   "cell_type": "markdown",
   "id": "972d2cf8",
   "metadata": {},
   "source": [
    "6.Contar la cantidad de veces que aparace el elemento `hola` en la siguiente lista:"
   ]
  },
  {
   "cell_type": "code",
   "execution_count": 38,
   "id": "de8ca774",
   "metadata": {},
   "outputs": [],
   "source": [
    "lista = [\"hola\", True, 1, True, 5, True, \"nuevo\"]"
   ]
  },
  {
   "cell_type": "code",
   "execution_count": 40,
   "id": "fb301515-7cdf-47bd-ac9c-ffebae58d6a5",
   "metadata": {},
   "outputs": [
    {
     "data": {
      "text/plain": [
       "1"
      ]
     },
     "execution_count": 40,
     "metadata": {},
     "output_type": "execute_result"
    }
   ],
   "source": [
    "lista.count('hola')"
   ]
  },
  {
   "cell_type": "markdown",
   "id": "065625be",
   "metadata": {},
   "source": [
    "7. Crear la lista `longitud` con un bucle for que contenga la cantidad de letras respectivas que contiene cada una de las palabras de la siguiente lista:"
   ]
  },
  {
   "cell_type": "code",
   "execution_count": 125,
   "id": "9d3f9e29",
   "metadata": {},
   "outputs": [],
   "source": [
    "lista = [\"Manzana\",\"Naranja\", \"Juan\", \"Carlos\", \"Maria\", \"Sofia\", \"Jose\"]"
   ]
  },
  {
   "cell_type": "code",
   "execution_count": 127,
   "id": "3d642159",
   "metadata": {},
   "outputs": [
    {
     "data": {
      "text/plain": [
       "[7, 7, 4, 6, 5, 5, 4]"
      ]
     },
     "execution_count": 127,
     "metadata": {},
     "output_type": "execute_result"
    }
   ],
   "source": [
    "longitud = [ len(x) for x in lista ]\n",
    "longitud"
   ]
  },
  {
   "cell_type": "markdown",
   "id": "e7665d16-4206-4806-bcca-6bd0955f3998",
   "metadata": {},
   "source": [
    "### Extras Listas"
   ]
  },
  {
   "cell_type": "markdown",
   "id": "a6ecd0e6",
   "metadata": {},
   "source": [
    "8. Crear una función que tome como input una lista de strings y devuelva como output una lista con todos los elementos que no terminen en vocal"
   ]
  },
  {
   "cell_type": "code",
   "execution_count": 129,
   "id": "7f1e3008",
   "metadata": {},
   "outputs": [],
   "source": [
    "lista = [\"Manzana\",\"Naranja\", \"Juan\", \"Carlos\", \"Maria\", \"Sofia\", \"Jose\", \"ordenador\", \"portatil\"]"
   ]
  },
  {
   "cell_type": "code",
   "execution_count": 131,
   "id": "e27b8241",
   "metadata": {},
   "outputs": [
    {
     "data": {
      "text/plain": [
       "['Juan', 'Carlos', 'ordenador', 'portatil']"
      ]
     },
     "execution_count": 131,
     "metadata": {},
     "output_type": "execute_result"
    }
   ],
   "source": [
    "def novocales(lista):\n",
    "    no_vocal = []\n",
    "    for x in lista:\n",
    "        if x[-1] not in 'aeiouAEIOU':\n",
    "            no_vocal.append(x)\n",
    "    return(no_vocal)\n",
    "\n",
    "novocales(lista)"
   ]
  },
  {
   "cell_type": "code",
   "execution_count": 134,
   "id": "d3f9bff8-5181-48a4-a34d-d6cd2f269130",
   "metadata": {},
   "outputs": [
    {
     "data": {
      "text/plain": [
       "['Juan', 'Carlos', 'ordenador', 'portatil']"
      ]
     },
     "execution_count": 134,
     "metadata": {},
     "output_type": "execute_result"
    }
   ],
   "source": [
    "def novocales(palabras):\n",
    "    novocal = [ x for x in palabras if x[-1] not in 'aeiouAEIOU' ]\n",
    "    return(novocal)\n",
    "\n",
    "novocales(lista)"
   ]
  },
  {
   "cell_type": "markdown",
   "id": "6494b7fd",
   "metadata": {},
   "source": [
    "9. Crear una función que reciba una lista de números y devuelva la suma de todos los números que no sean múltiplos de 3 ni de 5"
   ]
  },
  {
   "cell_type": "code",
   "execution_count": 138,
   "id": "a1b4869b",
   "metadata": {},
   "outputs": [],
   "source": [
    "lista = [9, 10, 29, 30, 15, 24, 80, 81, 43]"
   ]
  },
  {
   "cell_type": "code",
   "execution_count": 152,
   "id": "59cd3e49",
   "metadata": {},
   "outputs": [
    {
     "data": {
      "text/plain": [
       "72"
      ]
     },
     "execution_count": 152,
     "metadata": {},
     "output_type": "execute_result"
    }
   ],
   "source": [
    "def sumanomultiplo(numeros):\n",
    "    suma = 0\n",
    "    for n in numeros:\n",
    "        if n%3 != 0 and n%5 != 0:\n",
    "            suma = suma + n\n",
    "    return(suma)\n",
    "\n",
    "sumanomultiplo(lista)"
   ]
  },
  {
   "cell_type": "code",
   "execution_count": 160,
   "id": "9f59d341-96ab-472f-aef5-3efcf1636512",
   "metadata": {},
   "outputs": [
    {
     "data": {
      "text/plain": [
       "72"
      ]
     },
     "execution_count": 160,
     "metadata": {},
     "output_type": "execute_result"
    }
   ],
   "source": [
    "def sumanomultiplo(numeros):\n",
    "    nomultiplo35 = [ num for num in numeros if num % 3 and num%5 != 0 ]\n",
    "    return(sum(nomultiplo35))\n",
    "\n",
    "sumanomultiplo(lista)"
   ]
  },
  {
   "cell_type": "markdown",
   "id": "eca20c80",
   "metadata": {},
   "source": [
    "## Diccionarios"
   ]
  },
  {
   "cell_type": "markdown",
   "id": "07baf77a",
   "metadata": {},
   "source": [
    "1. Dado el siguiente diccionario"
   ]
  },
  {
   "cell_type": "code",
   "execution_count": 2,
   "id": "ed9615c5",
   "metadata": {},
   "outputs": [],
   "source": [
    "equipo = {\n",
    "    'nombre': 'Equipo A',\n",
    "    'jugadores': [\n",
    "        {'nombre': 'Juan', 'edad': 25},\n",
    "        {'nombre': 'Ana', 'edad': 22},\n",
    "        {'nombre': 'Carlos', 'edad': 28}\n",
    "    ],\n",
    "    'direccion': \"Calle Falsa 123\",\n",
    "    'telefonos': [627849384, 627294837, 627135356],\n",
    "    'inventario':{\n",
    "        'balones': 10,\n",
    "        'conos': 20,\n",
    "        'uniformes':32\n",
    "    },\n",
    "    'alimentos':{\n",
    "        'manzanas': 12,\n",
    "        'naranjas': 32,\n",
    "        'bananas': 16\n",
    "    }\n",
    "}"
   ]
  },
  {
   "cell_type": "markdown",
   "id": "0803862c",
   "metadata": {},
   "source": [
    "    a. Seleccionar todas las claves"
   ]
  },
  {
   "cell_type": "code",
   "execution_count": 4,
   "id": "b176ffe2",
   "metadata": {},
   "outputs": [
    {
     "data": {
      "text/plain": [
       "dict_keys(['nombre', 'jugadores', 'direccion', 'telefonos', 'inventario', 'alimentos'])"
      ]
     },
     "execution_count": 4,
     "metadata": {},
     "output_type": "execute_result"
    }
   ],
   "source": [
    "equipo.keys()"
   ]
  },
  {
   "cell_type": "markdown",
   "id": "c3cae977",
   "metadata": {},
   "source": [
    "    b. Seleccionar todos los valores"
   ]
  },
  {
   "cell_type": "code",
   "execution_count": 6,
   "id": "03891369",
   "metadata": {},
   "outputs": [
    {
     "data": {
      "text/plain": [
       "dict_values(['Equipo A', [{'nombre': 'Juan', 'edad': 25}, {'nombre': 'Ana', 'edad': 22}, {'nombre': 'Carlos', 'edad': 28}], 'Calle Falsa 123', [627849384, 627294837, 627135356], {'balones': 10, 'conos': 20, 'uniformes': 32}, {'manzanas': 12, 'naranjas': 32, 'bananas': 16}])"
      ]
     },
     "execution_count": 6,
     "metadata": {},
     "output_type": "execute_result"
    }
   ],
   "source": [
    "equipo.values()"
   ]
  },
  {
   "cell_type": "markdown",
   "id": "7fc55756",
   "metadata": {},
   "source": [
    "    c. Buscar el 2do número telefónico"
   ]
  },
  {
   "cell_type": "code",
   "execution_count": 12,
   "id": "611df0c6",
   "metadata": {},
   "outputs": [
    {
     "data": {
      "text/plain": [
       "627294837"
      ]
     },
     "execution_count": 12,
     "metadata": {},
     "output_type": "execute_result"
    }
   ],
   "source": [
    "equipo['telefonos'][1]"
   ]
  },
  {
   "cell_type": "markdown",
   "id": "49573a64",
   "metadata": {},
   "source": [
    "    d. Con un bucle for imprimir el tipo de valor que contiene cada clave del diccionario"
   ]
  },
  {
   "cell_type": "code",
   "execution_count": 14,
   "id": "4a420ab9",
   "metadata": {},
   "outputs": [
    {
     "name": "stdout",
     "output_type": "stream",
     "text": [
      " nombre es del tipo <class 'str'> \n",
      " jugadores es del tipo <class 'list'> \n",
      " direccion es del tipo <class 'str'> \n",
      " telefonos es del tipo <class 'list'> \n",
      " inventario es del tipo <class 'dict'> \n",
      " alimentos es del tipo <class 'dict'> \n"
     ]
    }
   ],
   "source": [
    "    for i in equipo.items():\n",
    "        clave = i[0]\n",
    "        valor = i[1]\n",
    "        print(f' {clave} es del tipo {type(valor)} ')"
   ]
  },
  {
   "cell_type": "code",
   "execution_count": 34,
   "id": "406d3285-57ff-4499-89ba-4571b18717bb",
   "metadata": {},
   "outputs": [
    {
     "name": "stdout",
     "output_type": "stream",
     "text": [
      " nombre es del tipo <class 'str'> \n",
      " jugadores es del tipo <class 'list'> \n",
      " direccion es del tipo <class 'str'> \n",
      " telefonos es del tipo <class 'list'> \n",
      " inventario es del tipo <class 'dict'> \n",
      " alimentos es del tipo <class 'dict'> \n"
     ]
    }
   ],
   "source": [
    "    for i in equipo.keys():\n",
    "        clave = i\n",
    "        valor = equipo[i]\n",
    "        print(f' {clave} es del tipo {type(valor)} ')"
   ]
  },
  {
   "cell_type": "code",
   "execution_count": null,
   "id": "3f56ebde-1bc8-42bc-9c72-a938fd971e93",
   "metadata": {},
   "outputs": [],
   "source": [
    "for clave, valor in equipo.items():\n",
    "    print(f\"{clave} es del tipo {type(valor)}\")"
   ]
  },
  {
   "cell_type": "markdown",
   "id": "7090e2c2",
   "metadata": {},
   "source": [
    "    e. Buscar la cantidad de balones que hay en el inventario"
   ]
  },
  {
   "cell_type": "code",
   "execution_count": 18,
   "id": "cd73c79d",
   "metadata": {},
   "outputs": [
    {
     "data": {
      "text/plain": [
       "10"
      ]
     },
     "execution_count": 18,
     "metadata": {},
     "output_type": "execute_result"
    }
   ],
   "source": [
    "equipo['inventario']['balones']"
   ]
  },
  {
   "cell_type": "markdown",
   "id": "25b6b476",
   "metadata": {},
   "source": [
    "    f. Buscar la edad de Ana"
   ]
  },
  {
   "cell_type": "code",
   "execution_count": 24,
   "id": "3cba3bc0",
   "metadata": {},
   "outputs": [
    {
     "data": {
      "text/plain": [
       "22"
      ]
     },
     "execution_count": 24,
     "metadata": {},
     "output_type": "execute_result"
    }
   ],
   "source": [
    "equipo['jugadores'][1]['edad']"
   ]
  },
  {
   "cell_type": "markdown",
   "id": "9a7b2125",
   "metadata": {},
   "source": [
    "    g. Eliminar el elemento balones de la lista de inventario"
   ]
  },
  {
   "cell_type": "code",
   "execution_count": 28,
   "id": "697865db",
   "metadata": {},
   "outputs": [
    {
     "data": {
      "text/plain": [
       "10"
      ]
     },
     "execution_count": 28,
     "metadata": {},
     "output_type": "execute_result"
    }
   ],
   "source": [
    "equipo['inventario'].pop('balones')"
   ]
  },
  {
   "cell_type": "code",
   "execution_count": 30,
   "id": "3197710e-592d-420a-9055-9f8840df45e5",
   "metadata": {},
   "outputs": [
    {
     "data": {
      "text/plain": [
       "{'nombre': 'Equipo A',\n",
       " 'jugadores': [{'nombre': 'Juan', 'edad': 25},\n",
       "  {'nombre': 'Ana', 'edad': 22},\n",
       "  {'nombre': 'Carlos', 'edad': 28}],\n",
       " 'direccion': 'Calle Falsa 123',\n",
       " 'telefonos': [627849384, 627294837, 627135356],\n",
       " 'inventario': {'conos': 20, 'uniformes': 32},\n",
       " 'alimentos': {'manzanas': 12, 'naranjas': 32, 'bananas': 16}}"
      ]
     },
     "execution_count": 30,
     "metadata": {},
     "output_type": "execute_result"
    }
   ],
   "source": [
    "equipo"
   ]
  },
  {
   "cell_type": "markdown",
   "id": "52940e6f",
   "metadata": {},
   "source": [
    "    h. Crear un bucle for que recorra todas las claves que sean diccionarios dentro del diccionario `equipo` y devuelva la suma del total de sus valores en un diccionario. \n",
    "    \n",
    "    El output debe ser `{'inventario': 62, 'alimentos': 60}`\n",
    "    "
   ]
  },
  {
   "cell_type": "code",
   "execution_count": 32,
   "id": "e95d0bf9",
   "metadata": {},
   "outputs": [
    {
     "data": {
      "text/plain": [
       "dict"
      ]
     },
     "execution_count": 32,
     "metadata": {},
     "output_type": "execute_result"
    }
   ],
   "source": [
    "type(equipo)"
   ]
  },
  {
   "cell_type": "code",
   "execution_count": 40,
   "id": "2d31d2dd-652c-4162-a8d9-da758872b31e",
   "metadata": {},
   "outputs": [
    {
     "data": {
      "text/plain": [
       "{'inventario': 52, 'alimentos': 60}"
      ]
     },
     "execution_count": 40,
     "metadata": {},
     "output_type": "execute_result"
    }
   ],
   "source": [
    "dicc = {}\n",
    "\n",
    "for i in equipo:\n",
    "    clave = i\n",
    "    valor = equipo[i]\n",
    "    if type(valor) == dict:\n",
    "        numeros = valor.values()\n",
    "        dicc[clave] = sum(numeros)\n",
    "dicc        "
   ]
  },
  {
   "cell_type": "code",
   "execution_count": null,
   "id": "8ea26060-4c6e-4fa9-9423-26d5ad2e2997",
   "metadata": {},
   "outputs": [],
   "source": []
  },
  {
   "cell_type": "markdown",
   "id": "8d86ced7",
   "metadata": {},
   "source": [
    "2. Crear un diccionario que cuente la cantidad de veces que se repite cada letra de las palabras de la siguiente lista:"
   ]
  },
  {
   "cell_type": "code",
   "execution_count": 2,
   "id": "d3549996",
   "metadata": {},
   "outputs": [],
   "source": [
    "lista = [\"manzana\", \"naranja\", \"pera\", \"ordenador\"]"
   ]
  },
  {
   "cell_type": "code",
   "execution_count": null,
   "id": "9f7370b6-d247-4f1d-b959-a6162202a08e",
   "metadata": {},
   "outputs": [],
   "source": [
    "'m':1 'a':8"
   ]
  },
  {
   "cell_type": "code",
   "execution_count": 4,
   "id": "779de864-f934-41e5-b016-320992a503d4",
   "metadata": {},
   "outputs": [
    {
     "data": {
      "text/plain": [
       "{'m': 1,\n",
       " 'a': 8,\n",
       " 'n': 5,\n",
       " 'z': 1,\n",
       " 'r': 4,\n",
       " 'j': 1,\n",
       " 'p': 1,\n",
       " 'e': 2,\n",
       " 'o': 2,\n",
       " 'd': 2}"
      ]
     },
     "execution_count": 4,
     "metadata": {},
     "output_type": "execute_result"
    }
   ],
   "source": [
    "diccionario = {}\n",
    "for palabra in lista:\n",
    "    for letra in palabra:\n",
    "        if diccionario.get(letra) == None:\n",
    "            diccionario[letra] = 1\n",
    "        else:\n",
    "            diccionario[letra] += 1\n",
    "diccionario\n",
    "\n",
    "            "
   ]
  },
  {
   "cell_type": "code",
   "execution_count": 53,
   "id": "b90f950b-cfb1-46ef-b20b-5180398ef30a",
   "metadata": {},
   "outputs": [
    {
     "data": {
      "text/plain": [
       "[]"
      ]
     },
     "execution_count": 53,
     "metadata": {},
     "output_type": "execute_result"
    }
   ],
   "source": []
  },
  {
   "cell_type": "code",
   "execution_count": null,
   "id": "02b5e7e9",
   "metadata": {},
   "outputs": [],
   "source": []
  },
  {
   "cell_type": "markdown",
   "id": "7eae69f6",
   "metadata": {},
   "source": [
    "## Tuplas"
   ]
  },
  {
   "cell_type": "markdown",
   "id": "24872c2c",
   "metadata": {},
   "source": [
    "1. Ordenar la siguiente tupla del último elemento al segundo elemento (descartar el primero)"
   ]
  },
  {
   "cell_type": "code",
   "execution_count": 7,
   "id": "4b29f183",
   "metadata": {},
   "outputs": [],
   "source": [
    "tupla = (1, True, 4, \"hola\", \"manzana\", False)"
   ]
  },
  {
   "cell_type": "code",
   "execution_count": 18,
   "id": "9bbf696a",
   "metadata": {},
   "outputs": [
    {
     "data": {
      "text/plain": [
       "(False, 'manzana', 'hola', 4, True)"
      ]
     },
     "execution_count": 18,
     "metadata": {},
     "output_type": "execute_result"
    }
   ],
   "source": [
    "tupla[:0:-1]"
   ]
  },
  {
   "cell_type": "markdown",
   "id": "3cfbff4d",
   "metadata": {},
   "source": [
    "2. Realizar un unpacking de la siguiente tupla en 4 variables."
   ]
  },
  {
   "cell_type": "code",
   "execution_count": 27,
   "id": "963102f9",
   "metadata": {},
   "outputs": [],
   "source": [
    "tupla = (1, True, 4, \"hola\")"
   ]
  },
  {
   "cell_type": "code",
   "execution_count": 29,
   "id": "da3de523",
   "metadata": {},
   "outputs": [
    {
     "data": {
      "text/plain": [
       "'hola'"
      ]
     },
     "execution_count": 29,
     "metadata": {},
     "output_type": "execute_result"
    }
   ],
   "source": [
    "(tup1,tup2,tup3,tup4) = tupla\n",
    "tup4"
   ]
  },
  {
   "cell_type": "markdown",
   "id": "118b98a0",
   "metadata": {},
   "source": [
    "3. Realizar un unpacking de todos los elementos numericos en variables (numero1, numero2 y numero3) y los strings almacenarlos en una única variable llamada string"
   ]
  },
  {
   "cell_type": "code",
   "execution_count": 31,
   "id": "023b7c48",
   "metadata": {},
   "outputs": [],
   "source": [
    "tupla = (1, 34, 4, \"hola\", \"manzana\")"
   ]
  },
  {
   "cell_type": "code",
   "execution_count": 35,
   "id": "5979d974",
   "metadata": {},
   "outputs": [
    {
     "data": {
      "text/plain": [
       "['hola', 'manzana']"
      ]
     },
     "execution_count": 35,
     "metadata": {},
     "output_type": "execute_result"
    }
   ],
   "source": [
    "(num1,num2,num3,*cadena) = tupla\n",
    "cadena"
   ]
  },
  {
   "cell_type": "markdown",
   "id": "a35ad568",
   "metadata": {},
   "source": [
    "3. Realizar un unpacking de todos los elementos numericos en variables (numero1, numero2 y numero3) y los strings almacenarlos en una única variable llamada string. Descartar todos los elementos que sean booleanos"
   ]
  },
  {
   "cell_type": "code",
   "execution_count": 37,
   "id": "7b89ba3e",
   "metadata": {},
   "outputs": [],
   "source": [
    "tupla = (1, True, 4, \"hola\", \"manzana\", False, 6)"
   ]
  },
  {
   "cell_type": "code",
   "execution_count": 42,
   "id": "1edab559",
   "metadata": {},
   "outputs": [
    {
     "data": {
      "text/plain": [
       "6"
      ]
     },
     "execution_count": 42,
     "metadata": {},
     "output_type": "execute_result"
    }
   ],
   "source": [
    "(num1, _, num2, *cadena, _, num3) = tupla\n",
    "cadena\n",
    "num3"
   ]
  },
  {
   "cell_type": "code",
   "execution_count": 46,
   "id": "bc6de895-c932-45ec-b3d4-4e58d9ba96d0",
   "metadata": {},
   "outputs": [],
   "source": [
    "tupla = (1,2,\"no lo quiero\", True, 4)"
   ]
  },
  {
   "cell_type": "code",
   "execution_count": 50,
   "id": "c1c1094e-babf-4883-b875-2d0c51c1fd0c",
   "metadata": {},
   "outputs": [
    {
     "data": {
      "text/plain": [
       "'no lo quiero'"
      ]
     },
     "execution_count": 50,
     "metadata": {},
     "output_type": "execute_result"
    }
   ],
   "source": [
    "(num1, num2, cadena, _, num3) = tupla\n",
    "cadena"
   ]
  },
  {
   "cell_type": "code",
   "execution_count": null,
   "id": "dffd6547-68c5-46a4-816d-b985fd7fc5ab",
   "metadata": {
    "scrolled": true
   },
   "outputs": [],
   "source": []
  },
  {
   "cell_type": "markdown",
   "id": "cd383df7",
   "metadata": {},
   "source": [
    "4. Crear una función llamada zippear que tenga como input:\n",
    "    - formato de output (\"diccionario\", \"tupla\", \"lista\")\n",
    "    - tuplas (un parámetro que permita ingresar la cantidad de tuplas que el usuario quiera)\n",
    "    \n",
    "    La función va a devolver las tuplas zippeadas y desempaquetadas en el formato indicado por el usuario"
   ]
  },
  {
   "cell_type": "code",
   "execution_count": null,
   "id": "5c584021",
   "metadata": {},
   "outputs": [],
   "source": []
  },
  {
   "cell_type": "code",
   "execution_count": null,
   "id": "ae235d8d-3e67-4bfe-9491-23dd57cd4b87",
   "metadata": {},
   "outputs": [],
   "source": []
  },
  {
   "cell_type": "markdown",
   "id": "a727494d",
   "metadata": {},
   "source": [
    "5. Utilizar la función creada en el punto 4 para zippear las tuplas `nombres`, `edades` y `alturas` en una tupla. Luego recorrer la misma con un bucle for para imprimir en consola el siguiente texto para cada usuario:\n",
    "\n",
    "    \"El usuario `nombre` tiene `edad` años y mide `altura (m)` metros y `altura (cm)` cm de altura.\""
   ]
  },
  {
   "cell_type": "code",
   "execution_count": 100,
   "id": "c7528636",
   "metadata": {},
   "outputs": [],
   "source": [
    "nombres = (\"Juan\", \"Maria\", \"Camila\")\n",
    "edades = (24, 36, 28)\n",
    "alturas = (163, 178, 157) # alturas en cm"
   ]
  },
  {
   "cell_type": "code",
   "execution_count": null,
   "id": "19601764",
   "metadata": {},
   "outputs": [],
   "source": []
  }
 ],
 "metadata": {
  "kernelspec": {
   "display_name": "Python [conda env:base] *",
   "language": "python",
   "name": "conda-base-py"
  },
  "language_info": {
   "codemirror_mode": {
    "name": "ipython",
    "version": 3
   },
   "file_extension": ".py",
   "mimetype": "text/x-python",
   "name": "python",
   "nbconvert_exporter": "python",
   "pygments_lexer": "ipython3",
   "version": "3.12.7"
  }
 },
 "nbformat": 4,
 "nbformat_minor": 5
}
