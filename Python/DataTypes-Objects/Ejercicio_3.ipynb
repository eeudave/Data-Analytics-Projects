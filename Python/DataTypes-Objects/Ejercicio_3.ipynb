{
 "cells": [
  {
   "cell_type": "markdown",
   "id": "753808e6",
   "metadata": {
    "id": "753808e6"
   },
   "source": [
    "# Ejercicios"
   ]
  },
  {
   "cell_type": "markdown",
   "id": "a6bb5ad8",
   "metadata": {
    "id": "a6bb5ad8"
   },
   "source": [
    "## Objetos por comprensión"
   ]
  },
  {
   "cell_type": "markdown",
   "id": "b6e13049",
   "metadata": {
    "id": "b6e13049"
   },
   "source": [
    "1. Crear una lista que contenga todos los números del 1 al 10"
   ]
  },
  {
   "cell_type": "code",
   "execution_count": 5,
   "id": "4aec70ae",
   "metadata": {
    "id": "4aec70ae"
   },
   "outputs": [
    {
     "data": {
      "text/plain": [
       "[1, 2, 3, 4, 5, 6, 7, 8, 9, 10]"
      ]
     },
     "execution_count": 5,
     "metadata": {},
     "output_type": "execute_result"
    }
   ],
   "source": [
    "[n for n in range(1,11)]"
   ]
  },
  {
   "cell_type": "markdown",
   "id": "dc4d0406",
   "metadata": {
    "id": "dc4d0406"
   },
   "source": [
    "2. Crea una lista que contenga todos los números pares del 1 al 50"
   ]
  },
  {
   "cell_type": "code",
   "execution_count": 127,
   "id": "ae65dd31",
   "metadata": {
    "id": "ae65dd31",
    "outputId": "47a0f809-482a-47f8-c20e-e9141b4a455c"
   },
   "outputs": [
    {
     "name": "stdout",
     "output_type": "stream",
     "text": [
      "[2, 4, 6, 8, 10, 12, 14, 16, 18, 20, 22, 24, 26, 28, 30, 32, 34, 36, 38, 40, 42, 44, 46, 48, 50]\n"
     ]
    }
   ],
   "source": [
    "print([n for n in range(1,51) if n % 2 == 0])"
   ]
  },
  {
   "cell_type": "markdown",
   "id": "2558a529-0dfd-4476-b4ff-687d8b6fc832",
   "metadata": {
    "id": "2558a529-0dfd-4476-b4ff-687d8b6fc832"
   },
   "source": [
    "### Extras"
   ]
  },
  {
   "cell_type": "markdown",
   "id": "81de6e6c",
   "metadata": {
    "id": "81de6e6c"
   },
   "source": [
    "3. Dada la siguiente lista, devuelve una lista con todas las palabras dentro de la matriz."
   ]
  },
  {
   "cell_type": "code",
   "execution_count": 17,
   "id": "48c36e16",
   "metadata": {
    "id": "48c36e16"
   },
   "outputs": [],
   "source": [
    "matriz = [[\"primera\", \"lista\"], [\"segunda\",\"lista\"], [\"tercera\", \"lista\"]]"
   ]
  },
  {
   "cell_type": "code",
   "execution_count": 32,
   "id": "6c29818d",
   "metadata": {
    "id": "6c29818d",
    "outputId": "725d2b0d-d345-48cd-ad60-8000da20bed0"
   },
   "outputs": [
    {
     "data": {
      "text/plain": [
       "['primera', 'lista', 'segunda', 'lista', 'tercera', 'lista']"
      ]
     },
     "execution_count": 32,
     "metadata": {},
     "output_type": "execute_result"
    }
   ],
   "source": [
    "[palabra for lista in matriz for palabra in lista]"
   ]
  },
  {
   "cell_type": "markdown",
   "id": "d058b5f8",
   "metadata": {
    "id": "d058b5f8"
   },
   "source": [
    "4. Dada la siguiente lista, devuelve una lista con todas las palabras dentro de la matriz si es que la palabra tiene más de 4 caracteres."
   ]
  },
  {
   "cell_type": "code",
   "execution_count": 34,
   "id": "4912c42a",
   "metadata": {
    "id": "4912c42a"
   },
   "outputs": [],
   "source": [
    "matriz = [[\"perro\", \"pera\"], [\"gato\",\"manzana\"], [\"tortuga\", \"limon\"]]"
   ]
  },
  {
   "cell_type": "code",
   "execution_count": 40,
   "id": "666336db",
   "metadata": {
    "id": "666336db",
    "outputId": "61b206c6-78fe-4745-b63a-44e6aaf65028"
   },
   "outputs": [
    {
     "data": {
      "text/plain": [
       "['perro', 'manzana', 'tortuga', 'limon']"
      ]
     },
     "execution_count": 40,
     "metadata": {},
     "output_type": "execute_result"
    }
   ],
   "source": [
    "[palabra for lista in matriz for palabra in lista if len(palabra) > 4]"
   ]
  },
  {
   "cell_type": "markdown",
   "id": "aabd71b2",
   "metadata": {
    "id": "aabd71b2"
   },
   "source": [
    "5. Crear un diccionario que cuente la cantidad de veces que aparece cada palabra en la lista"
   ]
  },
  {
   "cell_type": "code",
   "execution_count": 129,
   "id": "c8d7a9ae",
   "metadata": {
    "id": "c8d7a9ae"
   },
   "outputs": [],
   "source": [
    "lista = [\"manzana\", \"naranja\", \"pera\", \"banana\", \"naranja\", \"pera\", \"banana\", \"manzana\", \"naranja\", \"pera\", \"manzana\", \"naranja\"]"
   ]
  },
  {
   "cell_type": "code",
   "execution_count": 131,
   "id": "d609e28f",
   "metadata": {
    "id": "d609e28f",
    "outputId": "2193c8f8-7ba3-485d-ff04-2f53ce73c8a4"
   },
   "outputs": [
    {
     "data": {
      "text/plain": [
       "{'manzana': 3, 'naranja': 4, 'pera': 3, 'banana': 2}"
      ]
     },
     "execution_count": 131,
     "metadata": {},
     "output_type": "execute_result"
    }
   ],
   "source": [
    "{ palabra: lista.count(palabra) for palabra in lista }"
   ]
  },
  {
   "cell_type": "markdown",
   "id": "75522c3b",
   "metadata": {
    "id": "75522c3b"
   },
   "source": [
    "## Funciones Lambda"
   ]
  },
  {
   "cell_type": "markdown",
   "id": "b0a0c8bf",
   "metadata": {
    "id": "b0a0c8bf"
   },
   "source": [
    "1. Crear una función lambda que compare 2 números y devuelva el mayor de los dos"
   ]
  },
  {
   "cell_type": "code",
   "execution_count": 58,
   "id": "95abdce9",
   "metadata": {
    "id": "95abdce9"
   },
   "outputs": [
    {
     "name": "stdout",
     "output_type": "stream",
     "text": [
      "40 Es el mayor\n"
     ]
    }
   ],
   "source": [
    "comparador = lambda a,b: print(b,'Es el mayor') if b > a else print(a,'Es el mayor')\n",
    "comparador(40,23)"
   ]
  },
  {
   "cell_type": "markdown",
   "id": "6759a770",
   "metadata": {
    "id": "6759a770"
   },
   "source": [
    "2. Crear una función lambda que haga un zip entre dos tuplas"
   ]
  },
  {
   "cell_type": "code",
   "execution_count": 137,
   "id": "be0c8d2f",
   "metadata": {
    "id": "be0c8d2f"
   },
   "outputs": [
    {
     "data": {
      "text/plain": [
       "<zip at 0x17dfeea1000>"
      ]
     },
     "execution_count": 137,
     "metadata": {},
     "output_type": "execute_result"
    }
   ],
   "source": [
    "tupla1 = (\"Manzana\", 1, \"roja\", True)\n",
    "tupla2 = (\"Pera\", 1, \"verde\", True)\n",
    "zipeador = lambda tupla1,tupla2: zip(tupla1, tupla2)\n",
    "zipeador(tupla1,tupla2)"
   ]
  },
  {
   "cell_type": "code",
   "execution_count": null,
   "id": "317897d2-13e9-4404-a91f-0322ac445009",
   "metadata": {},
   "outputs": [],
   "source": []
  },
  {
   "cell_type": "markdown",
   "id": "5a87b186-3ce8-48f6-ad13-bb3943534bda",
   "metadata": {
    "id": "5a87b186-3ce8-48f6-ad13-bb3943534bda"
   },
   "source": [
    "### Extras"
   ]
  },
  {
   "cell_type": "markdown",
   "id": "ce08ce78",
   "metadata": {
    "id": "ce08ce78"
   },
   "source": [
    "3. Crear una función lambda que convierta temperatura en celsius a fahrenheit (°F = (°C * 9/5) + 32)"
   ]
  },
  {
   "cell_type": "code",
   "execution_count": 75,
   "id": "d9365b0c",
   "metadata": {
    "id": "d9365b0c"
   },
   "outputs": [
    {
     "data": {
      "text/plain": [
       "59.0"
      ]
     },
     "execution_count": 75,
     "metadata": {},
     "output_type": "execute_result"
    }
   ],
   "source": [
    "celsius_a_fahrenheit = lambda c: (c * 9/5) + 32\n",
    "celsius_a_fahrenheit(15)"
   ]
  },
  {
   "cell_type": "markdown",
   "id": "84a475cd",
   "metadata": {
    "id": "84a475cd"
   },
   "source": [
    "## Función Sorted"
   ]
  },
  {
   "cell_type": "markdown",
   "id": "0023d570",
   "metadata": {
    "id": "0023d570"
   },
   "source": [
    "1. Utilizar sorted para ordenar la lista de números de forma ascendente"
   ]
  },
  {
   "cell_type": "code",
   "execution_count": 80,
   "id": "d1c63cec",
   "metadata": {
    "id": "d1c63cec"
   },
   "outputs": [],
   "source": [
    "numeros = [5, 2, 8, 1, 7]"
   ]
  },
  {
   "cell_type": "code",
   "execution_count": 82,
   "id": "66d21aac",
   "metadata": {
    "id": "66d21aac"
   },
   "outputs": [
    {
     "data": {
      "text/plain": [
       "[1, 2, 5, 7, 8]"
      ]
     },
     "execution_count": 82,
     "metadata": {},
     "output_type": "execute_result"
    }
   ],
   "source": [
    "sorted(numeros)"
   ]
  },
  {
   "cell_type": "markdown",
   "id": "28053f75",
   "metadata": {
    "id": "28053f75"
   },
   "source": [
    "2. Utilizar sorted para ordenar la lista de números de forma descendente"
   ]
  },
  {
   "cell_type": "code",
   "execution_count": 84,
   "id": "bd37ee49",
   "metadata": {
    "id": "bd37ee49"
   },
   "outputs": [],
   "source": [
    "numeros = [5, 2, 8, 1, 7]"
   ]
  },
  {
   "cell_type": "code",
   "execution_count": 89,
   "id": "fe84b82b",
   "metadata": {
    "id": "fe84b82b"
   },
   "outputs": [
    {
     "data": {
      "text/plain": [
       "[8, 7, 5, 2, 1]"
      ]
     },
     "execution_count": 89,
     "metadata": {},
     "output_type": "execute_result"
    }
   ],
   "source": [
    "sorted(numeros, reverse=True)"
   ]
  },
  {
   "cell_type": "markdown",
   "id": "0c592475",
   "metadata": {
    "id": "0c592475"
   },
   "source": [
    "3. Utilizar sorted para ordenar la lista de palabras por longitud"
   ]
  },
  {
   "cell_type": "code",
   "execution_count": 97,
   "id": "d368e473",
   "metadata": {
    "id": "d368e473"
   },
   "outputs": [],
   "source": [
    "palabras = [\"manzana\", \"naranja\", \"pera\", \"uva\", \"kiwi\"]"
   ]
  },
  {
   "cell_type": "code",
   "execution_count": 101,
   "id": "5fdfdf9e",
   "metadata": {
    "id": "5fdfdf9e"
   },
   "outputs": [
    {
     "data": {
      "text/plain": [
       "['uva', 'pera', 'kiwi', 'manzana', 'naranja']"
      ]
     },
     "execution_count": 101,
     "metadata": {},
     "output_type": "execute_result"
    }
   ],
   "source": [
    "sorted(palabras, key=len)"
   ]
  },
  {
   "cell_type": "markdown",
   "id": "58ace2a9-1edb-4ca0-8459-b21c77fd90f7",
   "metadata": {
    "id": "58ace2a9-1edb-4ca0-8459-b21c77fd90f7"
   },
   "source": [
    "### Extras"
   ]
  },
  {
   "cell_type": "markdown",
   "id": "45cc3bf0",
   "metadata": {
    "id": "45cc3bf0"
   },
   "source": [
    "4. Utilizar sorted para ordenar la lista de tuplas por segundo elemento"
   ]
  },
  {
   "cell_type": "code",
   "execution_count": 107,
   "id": "dc80d4a5",
   "metadata": {
    "id": "dc80d4a5"
   },
   "outputs": [],
   "source": [
    "tuplas = [(1, 5), (3, 2), (2, 8), (4, 1)]"
   ]
  },
  {
   "cell_type": "code",
   "execution_count": 113,
   "id": "98332ba4",
   "metadata": {
    "id": "98332ba4",
    "outputId": "e85c460d-0f8b-4411-a879-26ecd51889a9"
   },
   "outputs": [
    {
     "data": {
      "text/plain": [
       "[(4, 1), (3, 2), (1, 5), (2, 8)]"
      ]
     },
     "execution_count": 113,
     "metadata": {},
     "output_type": "execute_result"
    }
   ],
   "source": [
    "sorted(tuplas, key=lambda x: x[1])"
   ]
  },
  {
   "cell_type": "markdown",
   "id": "1ebe5745",
   "metadata": {
    "id": "1ebe5745"
   },
   "source": [
    "5. Utilizar sorted para ordenar la lista de diccionarios por la clave \"edad\""
   ]
  },
  {
   "cell_type": "code",
   "execution_count": 118,
   "id": "152336d7",
   "metadata": {
    "id": "152336d7"
   },
   "outputs": [],
   "source": [
    "datos = [\n",
    "    {\"nombre\": \"Juan\", \"edad\": 25},\n",
    "    {\"nombre\": \"Ana\", \"edad\": 30},\n",
    "    {\"nombre\": \"Carlos\", \"edad\": 22}\n",
    "]"
   ]
  },
  {
   "cell_type": "code",
   "execution_count": 124,
   "id": "f560ddc7",
   "metadata": {
    "id": "f560ddc7",
    "outputId": "3495633e-b6b2-42b2-d0f9-c377b41d06d8"
   },
   "outputs": [
    {
     "data": {
      "text/plain": [
       "[{'nombre': 'Carlos', 'edad': 22},\n",
       " {'nombre': 'Juan', 'edad': 25},\n",
       " {'nombre': 'Ana', 'edad': 30}]"
      ]
     },
     "execution_count": 124,
     "metadata": {},
     "output_type": "execute_result"
    }
   ],
   "source": [
    "sorted(datos, key=lambda d: d[\"edad\"])"
   ]
  },
  {
   "cell_type": "code",
   "execution_count": null,
   "id": "365caf1d",
   "metadata": {
    "id": "365caf1d"
   },
   "outputs": [],
   "source": []
  },
  {
   "cell_type": "code",
   "execution_count": null,
   "id": "641d7eed",
   "metadata": {
    "id": "641d7eed"
   },
   "outputs": [],
   "source": []
  }
 ],
 "metadata": {
  "colab": {
   "provenance": []
  },
  "kernelspec": {
   "display_name": "Python [conda env:base] *",
   "language": "python",
   "name": "conda-base-py"
  },
  "language_info": {
   "codemirror_mode": {
    "name": "ipython",
    "version": 3
   },
   "file_extension": ".py",
   "mimetype": "text/x-python",
   "name": "python",
   "nbconvert_exporter": "python",
   "pygments_lexer": "ipython3",
   "version": "3.12.7"
  }
 },
 "nbformat": 4,
 "nbformat_minor": 5
}
