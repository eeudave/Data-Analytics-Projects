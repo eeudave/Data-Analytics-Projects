{
 "cells": [
  {
   "cell_type": "markdown",
   "id": "6a05890f",
   "metadata": {
    "id": "6a05890f"
   },
   "source": [
    "# Ejercicios Introducción"
   ]
  },
  {
   "cell_type": "markdown",
   "id": "161ec043",
   "metadata": {
    "id": "161ec043"
   },
   "source": [
    "## Base"
   ]
  },
  {
   "cell_type": "markdown",
   "id": "e2076eae",
   "metadata": {
    "id": "e2076eae"
   },
   "source": [
    "1. Dado el string \"El niño corre por el parque\" seleccionar la palabra \"corre\" con subsetting"
   ]
  },
  {
   "cell_type": "code",
   "execution_count": 6,
   "id": "8e5f54d7",
   "metadata": {
    "id": "8e5f54d7"
   },
   "outputs": [],
   "source": [
    "string = \"El niño corre por el parque\""
   ]
  },
  {
   "cell_type": "code",
   "execution_count": 10,
   "id": "eb9ea724",
   "metadata": {
    "colab": {
     "base_uri": "https://localhost:8080/",
     "height": 35
    },
    "executionInfo": {
     "elapsed": 16,
     "status": "ok",
     "timestamp": 1720435675717,
     "user": {
      "displayName": "Ignacio Argañaraz",
      "userId": "11040845507460322529"
     },
     "user_tz": -120
    },
    "id": "eb9ea724",
    "outputId": "e808f3a8-fec7-46cf-9704-10c14cc821cc"
   },
   "outputs": [
    {
     "data": {
      "text/plain": [
       "'corre'"
      ]
     },
     "execution_count": 10,
     "metadata": {},
     "output_type": "execute_result"
    }
   ],
   "source": [
    "string[8:13]"
   ]
  },
  {
   "cell_type": "markdown",
   "id": "9f79d21f",
   "metadata": {
    "id": "9f79d21f"
   },
   "source": [
    "2. Ordenar al objeto `string` de atras hacia adelante"
   ]
  },
  {
   "cell_type": "code",
   "execution_count": 12,
   "id": "460a9df9",
   "metadata": {
    "id": "460a9df9"
   },
   "outputs": [
    {
     "data": {
      "text/plain": [
       "'euqrap le rop erroc oñin lE'"
      ]
     },
     "execution_count": 12,
     "metadata": {},
     "output_type": "execute_result"
    }
   ],
   "source": [
    "string[::-1]"
   ]
  },
  {
   "cell_type": "markdown",
   "id": "8e93fb9e",
   "metadata": {
    "id": "8e93fb9e"
   },
   "source": [
    "3. Convierte en mayusculas todos los caracteres del objeto `string`"
   ]
  },
  {
   "cell_type": "code",
   "execution_count": 14,
   "id": "f78bc421",
   "metadata": {
    "id": "f78bc421"
   },
   "outputs": [
    {
     "data": {
      "text/plain": [
       "'EL NIÑO CORRE POR EL PARQUE'"
      ]
     },
     "execution_count": 14,
     "metadata": {},
     "output_type": "execute_result"
    }
   ],
   "source": [
    "string.upper()"
   ]
  },
  {
   "cell_type": "markdown",
   "id": "b80a2c6f",
   "metadata": {
    "id": "b80a2c6f"
   },
   "source": [
    "4. Calcula la cantidad de caracteres del objeto `string`"
   ]
  },
  {
   "cell_type": "code",
   "execution_count": 16,
   "id": "3fa10c1e",
   "metadata": {
    "id": "3fa10c1e"
   },
   "outputs": [
    {
     "data": {
      "text/plain": [
       "27"
      ]
     },
     "execution_count": 16,
     "metadata": {},
     "output_type": "execute_result"
    }
   ],
   "source": [
    "len(string)"
   ]
  },
  {
   "cell_type": "markdown",
   "id": "ca0ef79b",
   "metadata": {
    "id": "ca0ef79b"
   },
   "source": [
    "5. Encuentra la ubicación de la primera ocurrencia del caracter `o` en el objeto `string`"
   ]
  },
  {
   "cell_type": "code",
   "execution_count": 20,
   "id": "45d1d493",
   "metadata": {
    "id": "45d1d493"
   },
   "outputs": [
    {
     "data": {
      "text/plain": [
       "6"
      ]
     },
     "execution_count": 20,
     "metadata": {},
     "output_type": "execute_result"
    }
   ],
   "source": [
    "string.find('o')"
   ]
  },
  {
   "cell_type": "markdown",
   "id": "5e17b433",
   "metadata": {
    "id": "5e17b433"
   },
   "source": [
    "6. Cuenta cuantas veces aparece el caracter `e` en el objeto `string`"
   ]
  },
  {
   "cell_type": "code",
   "execution_count": 25,
   "id": "21688782",
   "metadata": {
    "id": "21688782"
   },
   "outputs": [
    {
     "data": {
      "text/plain": [
       "3"
      ]
     },
     "execution_count": 25,
     "metadata": {},
     "output_type": "execute_result"
    }
   ],
   "source": [
    "string.count('e')"
   ]
  },
  {
   "cell_type": "markdown",
   "id": "e6ead93b",
   "metadata": {
    "id": "e6ead93b"
   },
   "source": [
    "## Condicionales"
   ]
  },
  {
   "cell_type": "markdown",
   "id": "6aff6cd5",
   "metadata": {
    "id": "6aff6cd5",
    "jupyter": {
     "source_hidden": true
    }
   },
   "source": [
    "1. Crear un condicional que, en caso de que un número sea mayor a 10, devuelva el mensaje \"El número es mayor a 10\", si es igual que devuelva \"El número es igual a 10\" y en caso contrario que devuelva \"El número es menor a 10\""
   ]
  },
  {
   "cell_type": "code",
   "execution_count": 1,
   "id": "1e89dc3e",
   "metadata": {
    "id": "1e89dc3e"
   },
   "outputs": [
    {
     "name": "stdin",
     "output_type": "stream",
     "text": [
      "Ingrese un número: 15\n"
     ]
    }
   ],
   "source": [
    "numero = int(input(\"Ingrese un número:\"))"
   ]
  },
  {
   "cell_type": "code",
   "execution_count": 3,
   "id": "24b45775",
   "metadata": {
    "id": "24b45775"
   },
   "outputs": [
    {
     "name": "stdout",
     "output_type": "stream",
     "text": [
      "Numero mayor a 10\n"
     ]
    }
   ],
   "source": [
    "if numero > 10: \n",
    "    print('Numero mayor a 10') \n",
    "elif numero == 10: \n",
    "    print('Numero igual a 10') \n",
    "else:\n",
    "    print('Numero menor a 10')"
   ]
  },
  {
   "cell_type": "markdown",
   "id": "2b5ed742",
   "metadata": {
    "id": "2b5ed742"
   },
   "source": [
    "2. Solicite al usuario 3 datos:\n",
    "    - Operación matemática a realizar entre `+`, `-`, `/` y `*`.\n",
    "    - Primer número\n",
    "    - Segundo número\n",
    "    \n",
    "    Luego crear un condicional que devuelva el resultado de la operación en función de la operación seleccionada por el usuario"
   ]
  },
  {
   "cell_type": "code",
   "execution_count": 5,
   "id": "9c7a006c",
   "metadata": {
    "id": "9c7a006c"
   },
   "outputs": [
    {
     "name": "stdin",
     "output_type": "stream",
     "text": [
      "Ingrese operacion[+ - / o *]: /\n",
      "Ingrese número1: 21\n",
      "Ingrese número2: 7\n"
     ]
    },
    {
     "name": "stdout",
     "output_type": "stream",
     "text": [
      "El resultado es: 3.0\n"
     ]
    }
   ],
   "source": [
    "operacion = str(input(\"Ingrese operacion[+ - / o *]:\"))\n",
    "numero1 = int(input(\"Ingrese número1:\"))\n",
    "numero2 = int(input(\"Ingrese número2:\"))\n",
    "\n",
    "if operacion =='+':\n",
    "    resultado = numero1 + numero2\n",
    "    print(f'El resultado es: {resultado}')\n",
    "elif operacion =='-':\n",
    "    resultado = numero1 - numero2\n",
    "    print(f'El resultado es: {resultado}')\n",
    "elif operacion =='/':\n",
    "    resultado = numero1 / numero2\n",
    "    print(f'El resultado es: {resultado}')\n",
    "elif operacion =='*':\n",
    "    resultado = numero1 * numero2\n",
    "    print(f'El resultado es: {resultado}')\n",
    "else:\n",
    "    print('Operacion no valida')\n"
   ]
  },
  {
   "cell_type": "markdown",
   "id": "2ee6a8bc",
   "metadata": {
    "id": "2ee6a8bc"
   },
   "source": [
    "3. Pregunta al usuario por un número e indica si es par o impar"
   ]
  },
  {
   "cell_type": "code",
   "execution_count": 7,
   "id": "e9b29148",
   "metadata": {
    "id": "e9b29148"
   },
   "outputs": [
    {
     "name": "stdin",
     "output_type": "stream",
     "text": [
      "Ingrese un número: 10\n"
     ]
    },
    {
     "name": "stdout",
     "output_type": "stream",
     "text": [
      "10 Es numero par\n"
     ]
    }
   ],
   "source": [
    "numero = int(input(\"Ingrese un número:\"))\n",
    "\n",
    "if numero%2 == 0:\n",
    "    print(f'{numero} Es numero par')\n",
    "else:\n",
    "    print(f'{numero} Es numero impar')"
   ]
  },
  {
   "cell_type": "markdown",
   "id": "1fa0917c",
   "metadata": {
    "id": "1fa0917c"
   },
   "source": [
    "4. Pide al usuario que ingrese una contraseña. Si la longitud es menor a 8 caracteres o no contiene la letra s (en minúscula o mayuscula) devolver el mensaje `contraseña inválida`, en caso contrario devolver el mensaje `contraseña válida`."
   ]
  },
  {
   "cell_type": "code",
   "execution_count": 11,
   "id": "4d7d0272",
   "metadata": {
    "id": "4d7d0272"
   },
   "outputs": [
    {
     "name": "stdin",
     "output_type": "stream",
     "text": [
      "Ingrese una contraseña:  serikberto\n"
     ]
    },
    {
     "name": "stdout",
     "output_type": "stream",
     "text": [
      "Contraseña valida\n"
     ]
    }
   ],
   "source": [
    "pwd = str(input(\"Ingrese una contraseña: \"))\n",
    "\n",
    "if len(pwd) < 8 or pwd.lower().find('s') == -1:\n",
    "    print('Contraseña menor a 8 caracteres o no contiene la letra s/S')\n",
    "else:\n",
    "    print('Contraseña valida')"
   ]
  },
  {
   "cell_type": "markdown",
   "id": "804d190b",
   "metadata": {
    "id": "804d190b"
   },
   "source": [
    "5. Solicita al usuario ingresar una palabra y verifica si es un palíndromo (se lee igual de izquierda a derecha que de derecha a izquierda)."
   ]
  },
  {
   "cell_type": "code",
   "execution_count": 17,
   "id": "ade9f049",
   "metadata": {
    "id": "ade9f049"
   },
   "outputs": [
    {
     "name": "stdin",
     "output_type": "stream",
     "text": [
      "Ingrese una palabra:  solos\n"
     ]
    },
    {
     "name": "stdout",
     "output_type": "stream",
     "text": [
      "La palabra es palindromo!\n"
     ]
    }
   ],
   "source": [
    "palabra = str(input('Ingrese una palabra: '))\n",
    "\n",
    "palindromo = palabra[::-1]\n",
    "\n",
    "if palabra == palindromo:\n",
    "    print('La palabra es palindromo!')\n",
    "else:\n",
    "    print('La palabra no es palindromo')"
   ]
  },
  {
   "cell_type": "markdown",
   "id": "de15dbd4",
   "metadata": {
    "id": "de15dbd4"
   },
   "source": [
    "6. Pregunta al usuario el monto de su compra y calcula un descuento del 10% si la compra es mayor a $100."
   ]
  },
  {
   "cell_type": "code",
   "execution_count": 19,
   "id": "770bacd1",
   "metadata": {
    "id": "770bacd1"
   },
   "outputs": [
    {
     "name": "stdin",
     "output_type": "stream",
     "text": [
      "Cual es el monto de tu compra:  200\n"
     ]
    },
    {
     "name": "stdout",
     "output_type": "stream",
     "text": [
      "Tu monto 200 tiene un descuento del 10%, pagaras: 180.0\n"
     ]
    }
   ],
   "source": [
    "monto = int(input('Cual es el monto de tu compra: '))\n",
    "descuento = monto*0.9\n",
    "\n",
    "if monto > 100:\n",
    "    print(f'Tu monto {monto} tiene un descuento del 10%, pagaras: {descuento}')\n",
    "else:\n",
    "    print(f'Tu monto {monto} no tiene descuento')"
   ]
  },
  {
   "cell_type": "markdown",
   "id": "a4471776",
   "metadata": {
    "id": "a4471776"
   },
   "source": [
    "7. Solicita al usuario ingresar un año e indica si es bisiesto o no. Recuerda que los años bisiestos son aquellos que son divisbles por cuatro pero no divisibles por 100, a excepción de los años que sean divisibles por 400 (por eso el año 2000 fue bisiesto pero 2100 no lo será)"
   ]
  },
  {
   "cell_type": "code",
   "execution_count": 150,
   "id": "45f304b6",
   "metadata": {
    "id": "45f304b6"
   },
   "outputs": [
    {
     "name": "stdin",
     "output_type": "stream",
     "text": [
      "Ingresa un año:  2000\n"
     ]
    },
    {
     "name": "stdout",
     "output_type": "stream",
     "text": [
      "El año: 2000 es bisiesto!\n"
     ]
    }
   ],
   "source": [
    "year = int(input('Ingresa un año: '))\n",
    "\n",
    "if (year % 4 == 0 and year % 100 != 0) or (year % 400 == 0):\n",
    "    print(f'El año: {year} es bisiesto!')\n",
    "else:\n",
    "    print(f'El año: {year} No es bisiesto')"
   ]
  },
  {
   "cell_type": "markdown",
   "id": "df860626",
   "metadata": {
    "id": "df860626"
   },
   "source": [
    "## Bucles"
   ]
  },
  {
   "cell_type": "markdown",
   "id": "17d2a2a2",
   "metadata": {
    "id": "17d2a2a2"
   },
   "source": [
    "1. Mediante un While calcular la cantidad de números pares que no sean múltiplos de 7 que hay del 1 al 100."
   ]
  },
  {
   "cell_type": "code",
   "execution_count": 23,
   "id": "c5e1450d",
   "metadata": {
    "id": "c5e1450d"
   },
   "outputs": [
    {
     "name": "stdout",
     "output_type": "stream",
     "text": [
      "El numero 0 es par\n",
      "El numero 1 es impar\n",
      "El numero 2 es par y no es multiplo de 7\n",
      "El numero 3 es impar\n",
      "El numero 4 es par y no es multiplo de 7\n",
      "El numero 5 es impar\n",
      "El numero 6 es par y no es multiplo de 7\n",
      "El numero 7 es impar\n",
      "El numero 8 es par y no es multiplo de 7\n",
      "El numero 9 es impar\n",
      "El numero 10 es par y no es multiplo de 7\n",
      "El numero 11 es impar\n",
      "El numero 12 es par y no es multiplo de 7\n",
      "El numero 13 es impar\n",
      "El numero 14 es par\n",
      "El numero 15 es impar\n",
      "El numero 16 es par y no es multiplo de 7\n",
      "El numero 17 es impar\n",
      "El numero 18 es par y no es multiplo de 7\n",
      "El numero 19 es impar\n",
      "El numero 20 es par y no es multiplo de 7\n",
      "El numero 21 es impar\n",
      "El numero 22 es par y no es multiplo de 7\n",
      "El numero 23 es impar\n",
      "El numero 24 es par y no es multiplo de 7\n",
      "El numero 25 es impar\n",
      "El numero 26 es par y no es multiplo de 7\n",
      "El numero 27 es impar\n",
      "El numero 28 es par\n",
      "El numero 29 es impar\n",
      "El numero 30 es par y no es multiplo de 7\n",
      "El numero 31 es impar\n",
      "El numero 32 es par y no es multiplo de 7\n",
      "El numero 33 es impar\n",
      "El numero 34 es par y no es multiplo de 7\n",
      "El numero 35 es impar\n",
      "El numero 36 es par y no es multiplo de 7\n",
      "El numero 37 es impar\n",
      "El numero 38 es par y no es multiplo de 7\n",
      "El numero 39 es impar\n",
      "El numero 40 es par y no es multiplo de 7\n",
      "El numero 41 es impar\n",
      "El numero 42 es par\n",
      "El numero 43 es impar\n",
      "El numero 44 es par y no es multiplo de 7\n",
      "El numero 45 es impar\n",
      "El numero 46 es par y no es multiplo de 7\n",
      "El numero 47 es impar\n",
      "El numero 48 es par y no es multiplo de 7\n",
      "El numero 49 es impar\n",
      "El numero 50 es par y no es multiplo de 7\n",
      "El numero 51 es impar\n",
      "El numero 52 es par y no es multiplo de 7\n",
      "El numero 53 es impar\n",
      "El numero 54 es par y no es multiplo de 7\n",
      "El numero 55 es impar\n",
      "El numero 56 es par\n",
      "El numero 57 es impar\n",
      "El numero 58 es par y no es multiplo de 7\n",
      "El numero 59 es impar\n",
      "El numero 60 es par y no es multiplo de 7\n",
      "El numero 61 es impar\n",
      "El numero 62 es par y no es multiplo de 7\n",
      "El numero 63 es impar\n",
      "El numero 64 es par y no es multiplo de 7\n",
      "El numero 65 es impar\n",
      "El numero 66 es par y no es multiplo de 7\n",
      "El numero 67 es impar\n",
      "El numero 68 es par y no es multiplo de 7\n",
      "El numero 69 es impar\n",
      "El numero 70 es par\n",
      "El numero 71 es impar\n",
      "El numero 72 es par y no es multiplo de 7\n",
      "El numero 73 es impar\n",
      "El numero 74 es par y no es multiplo de 7\n",
      "El numero 75 es impar\n",
      "El numero 76 es par y no es multiplo de 7\n",
      "El numero 77 es impar\n",
      "El numero 78 es par y no es multiplo de 7\n",
      "El numero 79 es impar\n",
      "El numero 80 es par y no es multiplo de 7\n",
      "El numero 81 es impar\n",
      "El numero 82 es par y no es multiplo de 7\n",
      "El numero 83 es impar\n",
      "El numero 84 es par\n",
      "El numero 85 es impar\n",
      "El numero 86 es par y no es multiplo de 7\n",
      "El numero 87 es impar\n",
      "El numero 88 es par y no es multiplo de 7\n",
      "El numero 89 es impar\n",
      "El numero 90 es par y no es multiplo de 7\n",
      "El numero 91 es impar\n",
      "El numero 92 es par y no es multiplo de 7\n",
      "El numero 93 es impar\n",
      "El numero 94 es par y no es multiplo de 7\n",
      "El numero 95 es impar\n",
      "El numero 96 es par y no es multiplo de 7\n",
      "El numero 97 es impar\n",
      "El numero 98 es par\n",
      "El numero 99 es impar\n",
      "El numero 100 es par y no es multiplo de 7\n",
      "Se contaron 43 numeros con esa condicion\n"
     ]
    }
   ],
   "source": [
    "i = 0\n",
    "condicion = 0\n",
    "while i < 101:\n",
    "    if i%2 == 0:\n",
    "        if i%7 != 0:\n",
    "            print(f'El numero {i} es par y no es multiplo de 7')\n",
    "            condicion +=1\n",
    "        else:\n",
    "            print(f'El numero {i} es par')\n",
    "    else:\n",
    "        print(f'El numero {i} es impar')\n",
    "    i += 1\n",
    "print(f'Se contaron {condicion} numeros con esa condicion')"
   ]
  },
  {
   "cell_type": "markdown",
   "id": "35d1abc5",
   "metadata": {
    "id": "35d1abc5"
   },
   "source": [
    "2. Calcular el punto 1 con un bucle for."
   ]
  },
  {
   "cell_type": "code",
   "execution_count": 35,
   "id": "a18b0443",
   "metadata": {
    "id": "a18b0443"
   },
   "outputs": [
    {
     "name": "stdout",
     "output_type": "stream",
     "text": [
      "Se contaron 43 numeros con esa condicion\n"
     ]
    }
   ],
   "source": [
    "condicion = 0\n",
    "\n",
    "for i in range(101):\n",
    "    if i%2 == 0:\n",
    "        if i%7 != 0:\n",
    "            condicion += 1\n",
    "            \n",
    "print(f'Se contaron {condicion} numeros con esa condicion')"
   ]
  },
  {
   "cell_type": "markdown",
   "id": "cadb5481",
   "metadata": {
    "id": "cadb5481"
   },
   "source": [
    "3. Utilizando un bucle while, imprime un patrón de asteriscos como el siguiente:\n",
    "```\n",
    "*\n",
    "**\n",
    "***\n",
    "****\n",
    "*****\n",
    "```"
   ]
  },
  {
   "cell_type": "code",
   "execution_count": 37,
   "id": "b451c433",
   "metadata": {
    "id": "b451c433"
   },
   "outputs": [
    {
     "name": "stdout",
     "output_type": "stream",
     "text": [
      "\n",
      "*\n",
      "**\n",
      "***\n",
      "****\n",
      "*****\n",
      "******\n",
      "*******\n",
      "********\n",
      "*********\n"
     ]
    }
   ],
   "source": [
    "i = 0\n",
    "x = '*'\n",
    "while i < 10:\n",
    "    print(f'{x*i}')\n",
    "    i += 1\n",
    "    \n",
    "    "
   ]
  },
  {
   "cell_type": "markdown",
   "id": "d5f82470",
   "metadata": {
    "id": "d5f82470"
   },
   "source": [
    "4. Pide al usuario ingresar un número. Utiliza un bucle while para imprimir un contador regresivo desde ese número hasta 1."
   ]
  },
  {
   "cell_type": "code",
   "execution_count": 39,
   "id": "546ace3c",
   "metadata": {
    "id": "546ace3c"
   },
   "outputs": [
    {
     "name": "stdin",
     "output_type": "stream",
     "text": [
      "Ingresa un numero:  10\n"
     ]
    },
    {
     "name": "stdout",
     "output_type": "stream",
     "text": [
      "10\n",
      "9\n",
      "8\n",
      "7\n",
      "6\n",
      "5\n",
      "4\n",
      "3\n",
      "2\n",
      "1\n"
     ]
    }
   ],
   "source": [
    "numero= int(input('Ingresa un numero: '))\n",
    "\n",
    "limite = numero\n",
    "i = 1\n",
    "while i <= limite:\n",
    "    print(f'{numero}')\n",
    "    numero -= 1\n",
    "    i += 1\n"
   ]
  },
  {
   "cell_type": "markdown",
   "id": "cf752a7c",
   "metadata": {
    "id": "cf752a7c"
   },
   "source": [
    "5. Utilizando un bucle for, pide al usuario ingresar una palabra. Imprime cada letra de la palabra en una línea diferente."
   ]
  },
  {
   "cell_type": "code",
   "execution_count": 41,
   "id": "3336a284",
   "metadata": {
    "id": "3336a284"
   },
   "outputs": [
    {
     "name": "stdin",
     "output_type": "stream",
     "text": [
      "Ingrese una palabra:  gato\n"
     ]
    },
    {
     "name": "stdout",
     "output_type": "stream",
     "text": [
      "g\n",
      "a\n",
      "t\n",
      "o\n"
     ]
    }
   ],
   "source": [
    "palabra = str(input('Ingrese una palabra: '))\n",
    "\n",
    "for x in palabra:\n",
    "    print(x)\n",
    "    "
   ]
  },
  {
   "cell_type": "markdown",
   "id": "709e187e",
   "metadata": {
    "id": "709e187e"
   },
   "source": [
    "6. Pide al usuario ingresar un número. Utiliza un bucle for para imprimir la tabla de multiplicar de ese número del 1 al 10."
   ]
  },
  {
   "cell_type": "code",
   "execution_count": 43,
   "id": "788f399d",
   "metadata": {
    "id": "788f399d"
   },
   "outputs": [
    {
     "name": "stdin",
     "output_type": "stream",
     "text": [
      "Ingresa un numero:  5\n"
     ]
    },
    {
     "name": "stdout",
     "output_type": "stream",
     "text": [
      " 5 por 1 = 5\n",
      " 5 por 2 = 10\n",
      " 5 por 3 = 15\n",
      " 5 por 4 = 20\n",
      " 5 por 5 = 25\n",
      " 5 por 6 = 30\n",
      " 5 por 7 = 35\n",
      " 5 por 8 = 40\n",
      " 5 por 9 = 45\n",
      " 5 por 10 = 50\n"
     ]
    }
   ],
   "source": [
    "num= int(input('Ingresa un numero: '))\n",
    "\n",
    "for b in range(1,11):\n",
    "    c = num*b\n",
    "    print(f' {num} por {b} = {c}')\n",
    "\n"
   ]
  },
  {
   "cell_type": "markdown",
   "id": "be775afd",
   "metadata": {
    "id": "be775afd"
   },
   "source": [
    "7. Pide al usuario ingresar una palabra. Utiliza un bucle for para contar y imprimir la cantidad de vocales en la palabra."
   ]
  },
  {
   "cell_type": "code",
   "execution_count": 45,
   "id": "8804fe68",
   "metadata": {
    "id": "8804fe68"
   },
   "outputs": [
    {
     "name": "stdin",
     "output_type": "stream",
     "text": [
      "Ingrese una palabra:  condorito\n"
     ]
    },
    {
     "name": "stdout",
     "output_type": "stream",
     "text": [
      "La palabra tiene 4 vocales\n"
     ]
    }
   ],
   "source": [
    "palabra = str(input('Ingrese una palabra: '))\n",
    "vocales = \"aeiouAEIOU\"  \n",
    "contador = 0\n",
    "\n",
    "for x in palabra:\n",
    "    if x in vocales:\n",
    "        contador += 1\n",
    "print(f'La palabra tiene {contador} vocales')"
   ]
  },
  {
   "cell_type": "markdown",
   "id": "90c80eab",
   "metadata": {
    "id": "90c80eab"
   },
   "source": [
    "8. Pide al usuario ingresar una palabra. Utiliza un bucle for para imprimir la palabra de atras hacia adelante como en el siguiente ejemplo:\n",
    "```\n",
    "palabra = arbol\n",
    "\n",
    "output:\n",
    "lobra\n",
    "lobr\n",
    "lob\n",
    "lo\n",
    "l\n",
    "```\n"
   ]
  },
  {
   "cell_type": "code",
   "execution_count": 49,
   "id": "f2dfca2f",
   "metadata": {
    "id": "f2dfca2f"
   },
   "outputs": [
    {
     "name": "stdin",
     "output_type": "stream",
     "text": [
      "Ingrese una palabra:  hola\n"
     ]
    },
    {
     "name": "stdout",
     "output_type": "stream",
     "text": [
      "aloh\n",
      "alo\n",
      "al\n",
      "a\n"
     ]
    }
   ],
   "source": [
    "palabra = str(input('Ingrese una palabra: '))\n",
    "inversa = palabra[::-1]\n",
    "tamaño = len(inversa)\n",
    "\n",
    "for i in inversa:\n",
    "    print(inversa[:tamaño])\n",
    "    tamaño -=1"
   ]
  },
  {
   "cell_type": "markdown",
   "id": "dbba4212",
   "metadata": {
    "id": "dbba4212"
   },
   "source": [
    "9. Pide al usuario que ingrese una frase. Crea un While que imprima todos los caracteres de la frase hasta el 10mo caracter o hasta que aparezca un espacio."
   ]
  },
  {
   "cell_type": "code",
   "execution_count": 59,
   "id": "de9386dc",
   "metadata": {
    "id": "de9386dc"
   },
   "outputs": [
    {
     "name": "stdin",
     "output_type": "stream",
     "text": [
      "Ingrese una frase:  cadalococon su tema\n"
     ]
    },
    {
     "name": "stdout",
     "output_type": "stream",
     "text": [
      " c \n",
      " a \n",
      " d \n",
      " a \n",
      " l \n",
      " o \n",
      " c \n",
      " o \n",
      " c \n",
      " o \n",
      "Se detecto el 10o caracter o espacio\n"
     ]
    }
   ],
   "source": [
    "frase = str(input('Ingrese una frase: '))\n",
    "tamaño = len(frase)\n",
    "\n",
    "i = 0\n",
    "j = 1\n",
    "while i < tamaño:\n",
    "    print(f' {frase[i:j]} ')\n",
    "    i += 1\n",
    "    j += 1\n",
    "    if j == 11 or frase[i:j].isspace():\n",
    "        print('Se detecto el 10o caracter o espacio')\n",
    "        break\n"
   ]
  },
  {
   "cell_type": "markdown",
   "id": "a011c1a3",
   "metadata": {
    "id": "a011c1a3"
   },
   "source": [
    "10. Pide al usuario que ingrese una frase. Imprime todos los caracteres de esa frase que no sean vocales, si aparece la letra x se debe interrumpir la ejecución."
   ]
  },
  {
   "cell_type": "code",
   "execution_count": 61,
   "id": "70aecbfc",
   "metadata": {
    "id": "70aecbfc",
    "scrolled": true
   },
   "outputs": [
    {
     "name": "stdin",
     "output_type": "stream",
     "text": [
      "Ingrese una frase:  me compre un xoconostle\n"
     ]
    },
    {
     "name": "stdout",
     "output_type": "stream",
     "text": [
      "no vocal m \n",
      "no vocal   \n",
      "no vocal c \n",
      "no vocal m \n",
      "no vocal p \n",
      "no vocal r \n",
      "no vocal   \n",
      "no vocal n \n",
      "no vocal   \n",
      "se detecto una x/X\n"
     ]
    }
   ],
   "source": [
    "frase = str(input('Ingrese una frase: '))\n",
    "tamaño = len(frase)\n",
    "vocales = \"aeiouAEIOU\"\n",
    "\n",
    "i = 0\n",
    "j = 1\n",
    "while i < tamaño:\n",
    "    if frase[i:j] not in vocales:\n",
    "        if frase[i:j].lower() == 'x':\n",
    "            print('se detecto una x/X')\n",
    "            break \n",
    "        else:\n",
    "            print(f'no vocal {frase[i:j]} ')\n",
    "    i += 1\n",
    "    j += 1\n",
    "    "
   ]
  },
  {
   "cell_type": "markdown",
   "id": "961a7a1a",
   "metadata": {
    "id": "961a7a1a"
   },
   "source": [
    "## Funciones"
   ]
  },
  {
   "cell_type": "markdown",
   "id": "c754f764",
   "metadata": {
    "id": "c754f764"
   },
   "source": [
    "1. Crear función llamada mayor_20 que devuelva True si el número ingresado es mayor a 20 y False en caso contrario"
   ]
  },
  {
   "cell_type": "code",
   "execution_count": 72,
   "id": "21cdb1aa",
   "metadata": {
    "id": "21cdb1aa"
   },
   "outputs": [
    {
     "data": {
      "text/plain": [
       "True"
      ]
     },
     "execution_count": 72,
     "metadata": {},
     "output_type": "execute_result"
    }
   ],
   "source": [
    "def mayor_20(numero): \n",
    "    if numero > 20:\n",
    "        return(True)\n",
    "    else:\n",
    "        return(False)\n",
    "\n",
    "mayor_20(25)"
   ]
  },
  {
   "cell_type": "code",
   "execution_count": 78,
   "id": "S6NiQC6Q9hxv",
   "metadata": {
    "id": "S6NiQC6Q9hxv"
   },
   "outputs": [
    {
     "data": {
      "text/plain": [
       "False"
      ]
     },
     "execution_count": 78,
     "metadata": {},
     "output_type": "execute_result"
    }
   ],
   "source": [
    "mayor_20(10)"
   ]
  },
  {
   "cell_type": "markdown",
   "id": "c0bcfa51",
   "metadata": {
    "id": "c0bcfa51"
   },
   "source": [
    "2. Crear una función llamada total_vocales que devuelva la cantidad de vocales que tiene una palabra dada"
   ]
  },
  {
   "cell_type": "code",
   "execution_count": 81,
   "id": "ee5471be",
   "metadata": {
    "id": "ee5471be"
   },
   "outputs": [
    {
     "data": {
      "text/plain": [
       "6"
      ]
     },
     "execution_count": 81,
     "metadata": {},
     "output_type": "execute_result"
    }
   ],
   "source": [
    "def total_vocales(palabra):\n",
    "    contador = 0\n",
    "    for x in palabra:\n",
    "        if x in 'aeiouAEIOU':\n",
    "            contador += 1\n",
    "    return(contador)\n",
    "\n",
    "total_vocales('dinosaurio')"
   ]
  },
  {
   "cell_type": "markdown",
   "id": "85f9b005",
   "metadata": {
    "id": "85f9b005"
   },
   "source": [
    "3. Crear la función inverso que tome como input una palabra o frase y devuelva la misma invertida"
   ]
  },
  {
   "cell_type": "code",
   "execution_count": 84,
   "id": "ec0d02f4",
   "metadata": {
    "id": "ec0d02f4"
   },
   "outputs": [
    {
     "data": {
      "text/plain": [
       "'niteclaC'"
      ]
     },
     "execution_count": 84,
     "metadata": {},
     "output_type": "execute_result"
    }
   ],
   "source": [
    "def invertida(palabra):\n",
    "    return(palabra[::-1])\n",
    "\n",
    "invertida('Calcetin')"
   ]
  },
  {
   "cell_type": "markdown",
   "id": "52dd92a5",
   "metadata": {
    "id": "52dd92a5"
   },
   "source": [
    "4. Crear una función llamada pares a la que se le puedan ingresar todos los números que el usuario quiera que devuelva True si todos los números son pares y False en caso contrario."
   ]
  },
  {
   "cell_type": "code",
   "execution_count": 107,
   "id": "c0f5effe",
   "metadata": {
    "id": "c0f5effe"
   },
   "outputs": [
    {
     "data": {
      "text/plain": [
       "False"
      ]
     },
     "execution_count": 107,
     "metadata": {},
     "output_type": "execute_result"
    }
   ],
   "source": [
    "def pares(*numeros):\n",
    "    valida = any(n%2 != 0 for n in numeros)\n",
    "    if valida is True:\n",
    "        return(False)\n",
    "    else:\n",
    "        return(True)\n",
    "\n",
    "pares(2,4,6,7)"
   ]
  },
  {
   "cell_type": "markdown",
   "id": "0539ba97",
   "metadata": {
    "id": "0539ba97"
   },
   "source": [
    "5. Crear una función llamada calculadora con tres parámetros:\n",
    "    - Operación matemática a realizar entre `+`, `-`, `/` y `*`.\n",
    "    - Primer número\n",
    "    - Segundo número\n",
    "    \n",
    "    la misma debe devolver el resultado de la operación seleccionada. En caso de que el caracter ingresado no esté dentro de los solicitados se devolvera el mensaje \"El caracter `CARACTER INGRESADO` no pertenece a las operaciones permitidas\""
   ]
  },
  {
   "cell_type": "code",
   "execution_count": 101,
   "id": "4e1bfb12",
   "metadata": {
    "id": "4e1bfb12"
   },
   "outputs": [
    {
     "name": "stdout",
     "output_type": "stream",
     "text": [
      "El resultado es: 0\n"
     ]
    }
   ],
   "source": [
    "def calculadora(operacion,numero1,numero2):\n",
    "    if operacion =='+':\n",
    "        resultado = numero1 + numero2\n",
    "        print(f'El resultado es: {resultado}')\n",
    "    elif operacion =='-':\n",
    "        resultado = numero1 - numero2\n",
    "        print(f'El resultado es: {resultado}')\n",
    "    elif operacion =='/':\n",
    "        resultado = numero1 / numero2\n",
    "        print(f'El resultado es: {resultado}')\n",
    "    elif operacion =='*':\n",
    "        resultado = numero1 * numero2\n",
    "        print(f'El resultado es: {resultado}')\n",
    "    else:\n",
    "        print('Operacion no valida')\n",
    "\n",
    "calculadora('-',5,5)"
   ]
  },
  {
   "cell_type": "markdown",
   "id": "41a6ce45",
   "metadata": {
    "id": "41a6ce45"
   },
   "source": [
    "6. Crear una función llamada papelitos que devuelva la cantidad de veces que se tiene que doblar un papel para que la altura del mismo llegue a una altura dada. La función tomará los siguientes 3 parámetros:\n",
    "    - espesor (espesor del papel en mm)\n",
    "    - altura (altura que se desea alcanzar)\n",
    "    - unidad (unidad en la que se ingreso la altura. las opciones posibles son `cm`, `m`, `km`)"
   ]
  },
  {
   "cell_type": "code",
   "execution_count": 163,
   "id": "a830543e",
   "metadata": {
    "id": "a830543e"
   },
   "outputs": [
    {
     "data": {
      "text/plain": [
       "19"
      ]
     },
     "execution_count": 163,
     "metadata": {},
     "output_type": "execute_result"
    }
   ],
   "source": [
    "def papelitos(espesor,altura,unidad):\n",
    "    dobleces = 0\n",
    "    if unidad == 'mm':\n",
    "        altura = altura\n",
    "    elif unidad == 'cm':\n",
    "        altura = altura*10\n",
    "    elif unidad == 'm':\n",
    "        altura = altura*1000\n",
    "    elif unidad == 'km':\n",
    "        altura = altura*1000000\n",
    "    else:\n",
    "        print('Unidad no valida')      \n",
    "        \n",
    "    while espesor < altura:\n",
    "        espesor = espesor*2\n",
    "        dobleces +=1 \n",
    "    return(dobleces)\n",
    "    \n",
    "papelitos(1,384400,'mm')\n",
    "    "
   ]
  },
  {
   "cell_type": "markdown",
   "id": "d041608c",
   "metadata": {
    "id": "d041608c"
   },
   "source": [
    "7. Crear una función que reciba un número entero positivo y devuelva su factorial (el factorial de un número es el producto de todos los números enteros positivos desde 1 hasta este número inclusive)."
   ]
  },
  {
   "cell_type": "code",
   "execution_count": 110,
   "id": "4ae568a1",
   "metadata": {
    "id": "4ae568a1"
   },
   "outputs": [
    {
     "data": {
      "text/plain": [
       "120"
      ]
     },
     "execution_count": 110,
     "metadata": {},
     "output_type": "execute_result"
    }
   ],
   "source": [
    "def factorial(num):\n",
    "    resultado = 1\n",
    "    for i in range(1, num + 1): \n",
    "        resultado *= i\n",
    "    return resultado\n",
    "\n",
    "factorial(5)"
   ]
  },
  {
   "cell_type": "markdown",
   "id": "29e73182",
   "metadata": {
    "id": "29e73182"
   },
   "source": [
    "8. Crear una función que reciba un número entero positivo y devuelva si el número es primo o no.\n",
    "    \n",
    "    Tip: un número primo es todo aquel que solo es divisible por si mismo y por uno (es decir, que al dividirlo por todos sus números previos el resultado no es entero)"
   ]
  },
  {
   "cell_type": "code",
   "execution_count": 113,
   "id": "f4542a1b",
   "metadata": {
    "id": "f4542a1b"
   },
   "outputs": [
    {
     "data": {
      "text/plain": [
       "'Es primo'"
      ]
     },
     "execution_count": 113,
     "metadata": {},
     "output_type": "execute_result"
    }
   ],
   "source": [
    "def es_primo(n):\n",
    "    if n < 2:\n",
    "        return('No es primo')\n",
    "    for i in range(2, int(n ** 0.5) + 1): \n",
    "        if n % i == 0:\n",
    "            return('No es primo')\n",
    "    return('Es primo')\n",
    "    \n",
    "es_primo(5)"
   ]
  },
  {
   "cell_type": "code",
   "execution_count": null,
   "id": "57669ec3",
   "metadata": {
    "id": "57669ec3"
   },
   "outputs": [],
   "source": []
  }
 ],
 "metadata": {
  "colab": {
   "provenance": []
  },
  "kernelspec": {
   "display_name": "Python [conda env:base] *",
   "language": "python",
   "name": "conda-base-py"
  },
  "language_info": {
   "codemirror_mode": {
    "name": "ipython",
    "version": 3
   },
   "file_extension": ".py",
   "mimetype": "text/x-python",
   "name": "python",
   "nbconvert_exporter": "python",
   "pygments_lexer": "ipython3",
   "version": "3.12.7"
  }
 },
 "nbformat": 4,
 "nbformat_minor": 5
}
